{
 "cells": [
  {
   "cell_type": "markdown",
   "metadata": {},
   "source": [
    "# Word2vec on all data"
   ]
  },
  {
   "cell_type": "code",
   "execution_count": 1,
   "metadata": {
    "collapsed": true
   },
   "outputs": [],
   "source": [
    "import pandas as pd\n",
    "import gensim\n",
    "import pickle\n",
    "import string\n",
    "import re"
   ]
  },
  {
   "cell_type": "code",
   "execution_count": 2,
   "metadata": {
    "collapsed": true
   },
   "outputs": [],
   "source": [
    "# Bring in all data\n",
    "with open(\"0.pkl\", \"rb\") as picklefile:\n",
    "    df0 = pickle.load(picklefile)"
   ]
  },
  {
   "cell_type": "code",
   "execution_count": 9,
   "metadata": {
    "collapsed": false
   },
   "outputs": [
    {
     "data": {
      "text/plain": [
       "(81140, 13)"
      ]
     },
     "execution_count": 9,
     "metadata": {},
     "output_type": "execute_result"
    }
   ],
   "source": [
    "df0.shape"
   ]
  },
  {
   "cell_type": "code",
   "execution_count": 4,
   "metadata": {
    "collapsed": false
   },
   "outputs": [],
   "source": [
    "with open(\"100000.pkl\", \"rb\") as picklefile:\n",
    "    df1 = pickle.load(picklefile)"
   ]
  },
  {
   "cell_type": "code",
   "execution_count": 10,
   "metadata": {
    "collapsed": false
   },
   "outputs": [
    {
     "data": {
      "text/plain": [
       "(81215, 13)"
      ]
     },
     "execution_count": 10,
     "metadata": {},
     "output_type": "execute_result"
    }
   ],
   "source": [
    "df1.shape"
   ]
  },
  {
   "cell_type": "code",
   "execution_count": 5,
   "metadata": {
    "collapsed": true
   },
   "outputs": [],
   "source": [
    "with open(\"200000.pkl\", \"rb\") as picklefile:\n",
    "    df2 = pickle.load(picklefile)"
   ]
  },
  {
   "cell_type": "code",
   "execution_count": 11,
   "metadata": {
    "collapsed": false
   },
   "outputs": [
    {
     "data": {
      "text/plain": [
       "(81982, 13)"
      ]
     },
     "execution_count": 11,
     "metadata": {},
     "output_type": "execute_result"
    }
   ],
   "source": [
    "df2.shape"
   ]
  },
  {
   "cell_type": "code",
   "execution_count": 6,
   "metadata": {
    "collapsed": true
   },
   "outputs": [],
   "source": [
    "with open(\"300000.pkl\", \"rb\") as picklefile:\n",
    "    df3 = pickle.load(picklefile)"
   ]
  },
  {
   "cell_type": "code",
   "execution_count": 12,
   "metadata": {
    "collapsed": false
   },
   "outputs": [
    {
     "data": {
      "text/plain": [
       "(81803, 13)"
      ]
     },
     "execution_count": 12,
     "metadata": {},
     "output_type": "execute_result"
    }
   ],
   "source": [
    "df3.shape"
   ]
  },
  {
   "cell_type": "code",
   "execution_count": 7,
   "metadata": {
    "collapsed": true
   },
   "outputs": [],
   "source": [
    "with open(\"400000.pkl\", \"rb\") as picklefile:\n",
    "    df4 = pickle.load(picklefile)"
   ]
  },
  {
   "cell_type": "code",
   "execution_count": 13,
   "metadata": {
    "collapsed": false
   },
   "outputs": [
    {
     "data": {
      "text/plain": [
       "(81238, 13)"
      ]
     },
     "execution_count": 13,
     "metadata": {},
     "output_type": "execute_result"
    }
   ],
   "source": [
    "df4.shape"
   ]
  },
  {
   "cell_type": "code",
   "execution_count": 8,
   "metadata": {
    "collapsed": true
   },
   "outputs": [],
   "source": [
    "with open(\"500000.pkl\", \"rb\") as picklefile:\n",
    "    df5 = pickle.load(picklefile)"
   ]
  },
  {
   "cell_type": "code",
   "execution_count": 14,
   "metadata": {
    "collapsed": false
   },
   "outputs": [
    {
     "data": {
      "text/plain": [
       "(81033, 13)"
      ]
     },
     "execution_count": 14,
     "metadata": {},
     "output_type": "execute_result"
    }
   ],
   "source": [
    "df5.shape"
   ]
  },
  {
   "cell_type": "code",
   "execution_count": 17,
   "metadata": {
    "collapsed": false
   },
   "outputs": [],
   "source": [
    "all_df = pd.concat([df0,df1,df2,df3,df4,df5])"
   ]
  },
  {
   "cell_type": "code",
   "execution_count": 18,
   "metadata": {
    "collapsed": false
   },
   "outputs": [
    {
     "data": {
      "text/plain": [
       "(488411, 13)"
      ]
     },
     "execution_count": 18,
     "metadata": {},
     "output_type": "execute_result"
    }
   ],
   "source": [
    "all_df.shape"
   ]
  },
  {
   "cell_type": "code",
   "execution_count": 19,
   "metadata": {
    "collapsed": false
   },
   "outputs": [
    {
     "data": {
      "text/html": [
       "<div>\n",
       "<table border=\"1\" class=\"dataframe\">\n",
       "  <thead>\n",
       "    <tr style=\"text-align: right;\">\n",
       "      <th></th>\n",
       "      <th>_id</th>\n",
       "      <th>authors</th>\n",
       "      <th>date_x</th>\n",
       "      <th>image</th>\n",
       "      <th>keywords</th>\n",
       "      <th>summary</th>\n",
       "      <th>text</th>\n",
       "      <th>url</th>\n",
       "      <th>valid</th>\n",
       "      <th>decode_text</th>\n",
       "      <th>error</th>\n",
       "      <th>date_y</th>\n",
       "      <th>language</th>\n",
       "    </tr>\n",
       "  </thead>\n",
       "  <tbody>\n",
       "    <tr>\n",
       "      <th>0</th>\n",
       "      <td>58c94fc7d897da23f9f5a246</td>\n",
       "      <td>[]</td>\n",
       "      <td>NaT</td>\n",
       "      <td></td>\n",
       "      <td>[somalilandpress, meant, appear, javascript, r...</td>\n",
       "      <td>In order for you to see this page as it is mea...</td>\n",
       "      <td>Oops! It appears that you have disabled your J...</td>\n",
       "      <td>http://www.somalilandpress.com/iom-supports-dr...</td>\n",
       "      <td>True</td>\n",
       "      <td>Oops! It appears that you have disabled your J...</td>\n",
       "      <td>all good</td>\n",
       "      <td>20160512000000</td>\n",
       "      <td>en</td>\n",
       "    </tr>\n",
       "    <tr>\n",
       "      <th>1</th>\n",
       "      <td>58c94fc9d897da23f9f5a247</td>\n",
       "      <td>[]</td>\n",
       "      <td>NaT</td>\n",
       "      <td></td>\n",
       "      <td>[requested, updated, return, unavailable, nort...</td>\n",
       "      <td>You may have followed an outdated link or have...</td>\n",
       "      <td>The page you requested is currently unavailabl...</td>\n",
       "      <td>http://www.9and10news.com/story/33699640/syria...</td>\n",
       "      <td>True</td>\n",
       "      <td>The page you requested is currently unavailabl...</td>\n",
       "      <td>all good</td>\n",
       "      <td>20161114080000</td>\n",
       "      <td>en</td>\n",
       "    </tr>\n",
       "    <tr>\n",
       "      <th>2</th>\n",
       "      <td>58c94fcad897da23f9f5a248</td>\n",
       "      <td>[]</td>\n",
       "      <td>2016-12-19 19:32:57</td>\n",
       "      <td>https://c.tribune.com.pk/2016/12/1268397-saudi...</td>\n",
       "      <td>[defence, bombs, sold, coalition, british, war...</td>\n",
       "      <td>“However, Saudi Arabia has now confirmed it wi...</td>\n",
       "      <td>The war has killed more than 10,000 people and...</td>\n",
       "      <td>http://tribune.com.pk/story/1268397/saudi-led-...</td>\n",
       "      <td>True</td>\n",
       "      <td>The war has killed more than 10,000 people and...</td>\n",
       "      <td>all good</td>\n",
       "      <td>20161219200000</td>\n",
       "      <td>en</td>\n",
       "    </tr>\n",
       "    <tr>\n",
       "      <th>3</th>\n",
       "      <td>58c94fd4d897da23f9f5a249</td>\n",
       "      <td>[Reuters Staff Writers News Corp Australia Net...</td>\n",
       "      <td>2016-12-20 02:51:00</td>\n",
       "      <td>http://cdn.newsapi.com.au/image/v1/0152297c79d...</td>\n",
       "      <td>[homes, oil, followed, quake, deadly, coast, e...</td>\n",
       "      <td>That quake flattened homes and buildings up an...</td>\n",
       "      <td>A 5.7 MAGNITUDE earthquake followed by 37 afte...</td>\n",
       "      <td>http://www.couriermail.com.au/news/world/ecuad...</td>\n",
       "      <td>True</td>\n",
       "      <td>A 5.7 MAGNITUDE earthquake followed by 37 afte...</td>\n",
       "      <td>all good</td>\n",
       "      <td>20161219200000</td>\n",
       "      <td>en</td>\n",
       "    </tr>\n",
       "    <tr>\n",
       "      <th>4</th>\n",
       "      <td>58c94fd6d897da23f9f5a24c</td>\n",
       "      <td>[]</td>\n",
       "      <td>NaT</td>\n",
       "      <td>http://ftpcontent.worldnow.com/wncustom/custom...</td>\n",
       "      <td>[requested, updated, removed, return, unavaila...</td>\n",
       "      <td>You may have followed an outdated link or have...</td>\n",
       "      <td>The page you requested is currently unavailabl...</td>\n",
       "      <td>http://www.nbc-2.com/story/32756524/the-latest...</td>\n",
       "      <td>True</td>\n",
       "      <td>The page you requested is currently unavailabl...</td>\n",
       "      <td>all good</td>\n",
       "      <td>20160815040000</td>\n",
       "      <td>en</td>\n",
       "    </tr>\n",
       "  </tbody>\n",
       "</table>\n",
       "</div>"
      ],
      "text/plain": [
       "                        _id  \\\n",
       "0  58c94fc7d897da23f9f5a246   \n",
       "1  58c94fc9d897da23f9f5a247   \n",
       "2  58c94fcad897da23f9f5a248   \n",
       "3  58c94fd4d897da23f9f5a249   \n",
       "4  58c94fd6d897da23f9f5a24c   \n",
       "\n",
       "                                             authors              date_x  \\\n",
       "0                                                 []                 NaT   \n",
       "1                                                 []                 NaT   \n",
       "2                                                 [] 2016-12-19 19:32:57   \n",
       "3  [Reuters Staff Writers News Corp Australia Net... 2016-12-20 02:51:00   \n",
       "4                                                 []                 NaT   \n",
       "\n",
       "                                               image  \\\n",
       "0                                                      \n",
       "1                                                      \n",
       "2  https://c.tribune.com.pk/2016/12/1268397-saudi...   \n",
       "3  http://cdn.newsapi.com.au/image/v1/0152297c79d...   \n",
       "4  http://ftpcontent.worldnow.com/wncustom/custom...   \n",
       "\n",
       "                                            keywords  \\\n",
       "0  [somalilandpress, meant, appear, javascript, r...   \n",
       "1  [requested, updated, return, unavailable, nort...   \n",
       "2  [defence, bombs, sold, coalition, british, war...   \n",
       "3  [homes, oil, followed, quake, deadly, coast, e...   \n",
       "4  [requested, updated, removed, return, unavaila...   \n",
       "\n",
       "                                             summary  \\\n",
       "0  In order for you to see this page as it is mea...   \n",
       "1  You may have followed an outdated link or have...   \n",
       "2  “However, Saudi Arabia has now confirmed it wi...   \n",
       "3  That quake flattened homes and buildings up an...   \n",
       "4  You may have followed an outdated link or have...   \n",
       "\n",
       "                                                text  \\\n",
       "0  Oops! It appears that you have disabled your J...   \n",
       "1  The page you requested is currently unavailabl...   \n",
       "2  The war has killed more than 10,000 people and...   \n",
       "3  A 5.7 MAGNITUDE earthquake followed by 37 afte...   \n",
       "4  The page you requested is currently unavailabl...   \n",
       "\n",
       "                                                 url valid  \\\n",
       "0  http://www.somalilandpress.com/iom-supports-dr...  True   \n",
       "1  http://www.9and10news.com/story/33699640/syria...  True   \n",
       "2  http://tribune.com.pk/story/1268397/saudi-led-...  True   \n",
       "3  http://www.couriermail.com.au/news/world/ecuad...  True   \n",
       "4  http://www.nbc-2.com/story/32756524/the-latest...  True   \n",
       "\n",
       "                                         decode_text     error  \\\n",
       "0  Oops! It appears that you have disabled your J...  all good   \n",
       "1  The page you requested is currently unavailabl...  all good   \n",
       "2  The war has killed more than 10,000 people and...  all good   \n",
       "3  A 5.7 MAGNITUDE earthquake followed by 37 afte...  all good   \n",
       "4  The page you requested is currently unavailabl...  all good   \n",
       "\n",
       "           date_y language  \n",
       "0  20160512000000       en  \n",
       "1  20161114080000       en  \n",
       "2  20161219200000       en  \n",
       "3  20161219200000       en  \n",
       "4  20160815040000       en  "
      ]
     },
     "execution_count": 19,
     "metadata": {},
     "output_type": "execute_result"
    }
   ],
   "source": [
    "all_df.head()"
   ]
  },
  {
   "cell_type": "code",
   "execution_count": 21,
   "metadata": {
    "collapsed": false
   },
   "outputs": [
    {
     "data": {
      "text/plain": [
       "488411"
      ]
     },
     "execution_count": 21,
     "metadata": {},
     "output_type": "execute_result"
    }
   ],
   "source": [
    "# Prepare words in tweets for word2vec\n",
    "word2vec_words = []\n",
    "\n",
    "remove = string.punctuation\n",
    "remove = remove.replace(\"\\n\", \"\") \n",
    "remove = remove.replace(\"\\n\\n\", \"\")\n",
    "pattern = r\"[{}]\".format(remove) # create the pattern\n",
    "\n",
    "for text in all_df.decode_text:\n",
    "    text = re.sub(pattern, \"\", text)\n",
    "    text = text.lower()\n",
    "    words = text.split()\n",
    "    word2vec_words.append(words)\n",
    "    \n",
    "len(word2vec_words)"
   ]
  },
  {
   "cell_type": "code",
   "execution_count": 22,
   "metadata": {
    "collapsed": false
   },
   "outputs": [
    {
     "data": {
      "text/plain": [
       "['the',\n",
       " 'page',\n",
       " 'you',\n",
       " 'requested',\n",
       " 'is',\n",
       " 'currently',\n",
       " 'unavailable',\n",
       " 'pages',\n",
       " 'on',\n",
       " 'this',\n",
       " 'site',\n",
       " 'are',\n",
       " 'constantly',\n",
       " 'being',\n",
       " 'revised',\n",
       " 'updated',\n",
       " 'and',\n",
       " 'occasionally',\n",
       " 'removed',\n",
       " 'you',\n",
       " 'may',\n",
       " 'have',\n",
       " 'followed',\n",
       " 'an',\n",
       " 'outdated',\n",
       " 'link',\n",
       " 'or',\n",
       " 'have',\n",
       " 'outdated',\n",
       " 'pages',\n",
       " 'in',\n",
       " 'your',\n",
       " 'browser',\n",
       " 'cache',\n",
       " 'please',\n",
       " 'use',\n",
       " 'your',\n",
       " 'browsers',\n",
       " 'back',\n",
       " 'button',\n",
       " 'to',\n",
       " 'return',\n",
       " 'to',\n",
       " 'the',\n",
       " 'previous',\n",
       " 'page',\n",
       " 'we',\n",
       " 'apologize',\n",
       " 'for',\n",
       " 'any',\n",
       " 'inconvenience']"
      ]
     },
     "execution_count": 22,
     "metadata": {},
     "output_type": "execute_result"
    }
   ],
   "source": [
    "word2vec_words[1]"
   ]
  },
  {
   "cell_type": "code",
   "execution_count": 32,
   "metadata": {
    "collapsed": false
   },
   "outputs": [],
   "source": [
    "# Run the model\n",
    "word2vec = gensim.models.Word2Vec(word2vec_words)"
   ]
  },
  {
   "cell_type": "code",
   "execution_count": 34,
   "metadata": {
    "collapsed": false
   },
   "outputs": [
    {
     "data": {
      "text/plain": [
       "[('residents', 0.7698285579681396),\n",
       " ('families', 0.7659181356430054),\n",
       " ('syrians', 0.7627779245376587),\n",
       " ('inhabitants', 0.7332634925842285),\n",
       " ('iraqis', 0.7171155214309692),\n",
       " ('civilians', 0.7116067409515381),\n",
       " ('children', 0.7086159586906433),\n",
       " ('yemenis', 0.7029330730438232),\n",
       " ('others', 0.6916561722755432),\n",
       " ('villagers', 0.6863929033279419),\n",
       " ('persons', 0.6774007678031921),\n",
       " ('households', 0.6707485914230347),\n",
       " ('somalis', 0.6555814743041992),\n",
       " ('haitians', 0.6461802124977112),\n",
       " ('citizens', 0.6398098468780518),\n",
       " ('nigerians', 0.6344140768051147),\n",
       " ('burundians', 0.6039589643478394),\n",
       " ('individuals', 0.5993373394012451),\n",
       " ('malians', 0.5980007648468018),\n",
       " ('patients', 0.5938652157783508),\n",
       " ('youths', 0.5936434864997864),\n",
       " ('libyans', 0.5910505056381226),\n",
       " ('indians', 0.5883929133415222),\n",
       " ('americans', 0.5879949927330017),\n",
       " ('migrants', 0.5800037384033203),\n",
       " ('men', 0.5797467231750488),\n",
       " ('kenyans', 0.5738561153411865),\n",
       " ('refugees', 0.5733290314674377),\n",
       " ('minors', 0.5660731196403503),\n",
       " ('christians', 0.5653379559516907),\n",
       " ('evacuees', 0.5570038557052612),\n",
       " ('students', 0.5563239455223083),\n",
       " ('kids', 0.554835855960846),\n",
       " ('customers', 0.5513140559196472),\n",
       " ('afghans', 0.5470297932624817),\n",
       " ('workers', 0.5457817316055298),\n",
       " ('australians', 0.542733907699585),\n",
       " ('pilgrims', 0.5394884347915649),\n",
       " ('passengers', 0.5360045433044434),\n",
       " ('tourists', 0.53467857837677),\n",
       " ('campers', 0.5343475937843323),\n",
       " ('girls', 0.5338324308395386),\n",
       " ('colombians', 0.5239983797073364),\n",
       " ('folks', 0.5225852727890015),\n",
       " ('filipinos', 0.5207388401031494),\n",
       " ('palestinians', 0.5185565948486328),\n",
       " ('ugandans', 0.5173824429512024),\n",
       " ('ofws', 0.5168847441673279),\n",
       " ('idps', 0.5143742561340332),\n",
       " ('animals', 0.5137385725975037)]"
      ]
     },
     "execution_count": 34,
     "metadata": {},
     "output_type": "execute_result"
    }
   ],
   "source": [
    "word2vec.most_similar(\"people\", topn=50)"
   ]
  },
  {
   "cell_type": "code",
   "execution_count": 36,
   "metadata": {
    "collapsed": false
   },
   "outputs": [
    {
     "data": {
      "text/plain": [
       "[('families', 0.692386269569397),\n",
       " ('people', 0.6707485914230347),\n",
       " ('residents', 0.5973342657089233),\n",
       " ('customers', 0.5948172211647034),\n",
       " ('individuals', 0.5937477350234985),\n",
       " ('persons', 0.5888407826423645),\n",
       " ('beneficiaries', 0.5608980655670166),\n",
       " ('inhabitants', 0.5546413660049438),\n",
       " ('residences', 0.5523574352264404),\n",
       " ('homes', 0.5414544343948364),\n",
       " ('idps', 0.5402897000312805),\n",
       " ('population', 0.5384705662727356),\n",
       " ('burundians', 0.5356242060661316),\n",
       " ('populations', 0.5321266651153564),\n",
       " ('communities', 0.5281994342803955),\n",
       " ('malians', 0.5279558897018433),\n",
       " ('ofws', 0.525730311870575),\n",
       " ('somalis', 0.519855260848999),\n",
       " ('haitians', 0.5198391079902649),\n",
       " ('properties', 0.5188850164413452),\n",
       " ('children', 0.5151695013046265),\n",
       " ('kroner', 0.513873815536499),\n",
       " ('farmers', 0.5137497186660767),\n",
       " ('mw', 0.5086555480957031),\n",
       " ('parcels', 0.5084959268569946),\n",
       " ('megawatts', 0.5082093477249146),\n",
       " ('houses', 0.5057049989700317),\n",
       " ('businesses', 0.5051242113113403),\n",
       " ('million', 0.5039166212081909),\n",
       " ('returnees', 0.5023951530456543),\n",
       " ('iraqis', 0.5020161867141724),\n",
       " ('municipalities', 0.5018877983093262),\n",
       " ('shelters', 0.4960497319698334),\n",
       " ('villagers', 0.49595198035240173),\n",
       " ('barangays', 0.49115270376205444),\n",
       " ('structures', 0.48736536502838135),\n",
       " ('patients', 0.4870784878730774),\n",
       " ('tenants', 0.4852195978164673),\n",
       " ('36m', 0.48078107833862305),\n",
       " ('noninterest', 0.47925591468811035),\n",
       " ('workers', 0.4790192246437073),\n",
       " ('hectares', 0.47418373823165894),\n",
       " ('ffps', 0.47244197130203247),\n",
       " ('syrians', 0.47007694840431213),\n",
       " ('gazans', 0.4683105945587158),\n",
       " ('pafs', 0.4669887125492096),\n",
       " ('subdistricts', 0.46608492732048035),\n",
       " ('000', 0.46544182300567627),\n",
       " ('jobs', 0.4629005193710327),\n",
       " ('6150', 0.46106767654418945)]"
      ]
     },
     "execution_count": 36,
     "metadata": {},
     "output_type": "execute_result"
    }
   ],
   "source": [
    "word2vec.most_similar(\"households\", topn=50)"
   ]
  },
  {
   "cell_type": "code",
   "execution_count": 37,
   "metadata": {
    "collapsed": false
   },
   "outputs": [
    {
     "data": {
      "text/plain": [
       "[('rescued', 0.769364595413208),\n",
       " ('relocated', 0.741351842880249),\n",
       " ('hospitalised', 0.6284605264663696),\n",
       " ('transported', 0.6199560165405273),\n",
       " ('airlifted', 0.6171516180038452),\n",
       " ('evacuate', 0.6156517267227173),\n",
       " ('evacuating', 0.597954273223877),\n",
       " ('transferred', 0.5940810441970825),\n",
       " ('discharged', 0.5932118892669678),\n",
       " ('bused', 0.5906758308410645),\n",
       " ('evicted', 0.5770348906517029),\n",
       " ('housed', 0.5679940581321716),\n",
       " ('sheltered', 0.5640057325363159),\n",
       " ('deployed', 0.5598671436309814),\n",
       " ('closed', 0.5586018562316895),\n",
       " ('dispatched', 0.5541596412658691),\n",
       " ('cleared', 0.5500319004058838),\n",
       " ('evacuatedthe', 0.5495615005493164),\n",
       " ('selfevacuated', 0.5492636561393738),\n",
       " ('ferried', 0.5476594567298889),\n",
       " ('moved', 0.5411199331283569),\n",
       " ('hospitalized', 0.5407850742340088),\n",
       " ('cancelled', 0.5396517515182495),\n",
       " ('extricated', 0.532581627368927),\n",
       " ('trapped', 0.532520055770874),\n",
       " ('destroyed', 0.5313749313354492),\n",
       " ('canceled', 0.5309863090515137),\n",
       " ('evacuation', 0.5294162034988403),\n",
       " ('evacuates', 0.5291211605072021),\n",
       " ('redstickered', 0.528339147567749),\n",
       " ('bussed', 0.5252669453620911),\n",
       " ('injured', 0.524864673614502),\n",
       " ('killed', 0.5179108381271362),\n",
       " ('recovered', 0.5175086259841919),\n",
       " ('reoccupied', 0.5173648595809937),\n",
       " ('removed', 0.5137319564819336),\n",
       " ('reopened', 0.5106207132339478),\n",
       " ('flown', 0.5097978711128235),\n",
       " ('decontaminated', 0.5096216797828674),\n",
       " ('saved', 0.5083329081535339),\n",
       " ('treated', 0.507544755935669),\n",
       " ('notified', 0.5072333216667175),\n",
       " ('stranded', 0.5059103965759277),\n",
       " ('halted', 0.5040900707244873),\n",
       " ('died', 0.5034202933311462),\n",
       " ('displaced', 0.4992561340332031),\n",
       " ('arrested', 0.48635321855545044),\n",
       " ('demolished', 0.4854639172554016),\n",
       " ('returned', 0.4846411347389221),\n",
       " ('ejected', 0.48421910405158997)]"
      ]
     },
     "execution_count": 37,
     "metadata": {},
     "output_type": "execute_result"
    }
   ],
   "source": [
    "word2vec.most_similar(\"evacuated\", topn=50)"
   ]
  },
  {
   "cell_type": "code",
   "execution_count": 39,
   "metadata": {
    "collapsed": false
   },
   "outputs": [
    {
     "data": {
      "text/plain": [
       "[('diplaced', 0.7253696918487549),\n",
       " ('internallydisplaced', 0.701400637626648),\n",
       " ('displacedthe', 0.7008921504020691),\n",
       " ('uprooted', 0.6832760572433472),\n",
       " ('displacing', 0.6273094415664673),\n",
       " ('10063', 0.6168655753135681),\n",
       " ('displacedthey', 0.6132574677467346),\n",
       " ('newlydisplaced', 0.6077229976654053),\n",
       " ('24225', 0.5990123748779297),\n",
       " ('affected', 0.5922425389289856),\n",
       " ('dispaced', 0.5852132439613342),\n",
       " ('57657', 0.5797792673110962),\n",
       " ('fleeing', 0.578083872795105),\n",
       " ('homeless', 0.5686662793159485),\n",
       " ('75408', 0.5546516180038452),\n",
       " ('displacedbbc', 0.5532243251800537),\n",
       " ('16483', 0.5530073642730713),\n",
       " ('29166', 0.5496914386749268),\n",
       " ('conflictdisplaced', 0.5459113121032715),\n",
       " ('evicted', 0.5454421043395996),\n",
       " ('17896', 0.5453553795814514),\n",
       " ('92002', 0.5442593097686768),\n",
       " ('repatriated', 0.5405468940734863),\n",
       " ('killed', 0.5385329127311707),\n",
       " ('waraffected', 0.5327901244163513),\n",
       " ('229901', 0.5290380716323853),\n",
       " ('40515', 0.5224593281745911),\n",
       " ('displaces', 0.5209903717041016),\n",
       " ('narmadaaffected', 0.5207011699676514),\n",
       " ('51300', 0.5183687210083008),\n",
       " ('residing', 0.5181339979171753),\n",
       " ('foodinsecure', 0.5164572596549988),\n",
       " ('fled', 0.5156687498092651),\n",
       " ('29533', 0.514484167098999),\n",
       " ('70266', 0.5140645503997803),\n",
       " ('abducted', 0.5115647315979004),\n",
       " ('149659', 0.5084052681922913),\n",
       " ('refugeesbut', 0.5077056884765625),\n",
       " ('5139', 0.5016238689422607),\n",
       " ('displace', 0.5010601878166199),\n",
       " ('evacuated', 0.49925607442855835),\n",
       " ('living', 0.49848705530166626),\n",
       " ('evicting', 0.49332061409950256),\n",
       " ('relocated', 0.4920312166213989),\n",
       " ('impacted', 0.48975056409835815),\n",
       " ('sheltering', 0.48911720514297485),\n",
       " ('515800', 0.48692628741264343),\n",
       " ('victimized', 0.4868415892124176),\n",
       " ('114933', 0.4831254482269287),\n",
       " ('trapped', 0.48255467414855957)]"
      ]
     },
     "execution_count": 39,
     "metadata": {},
     "output_type": "execute_result"
    }
   ],
   "source": [
    "word2vec.most_similar(\"displaced\", topn=50)"
   ]
  },
  {
   "cell_type": "code",
   "execution_count": 38,
   "metadata": {
    "collapsed": false
   },
   "outputs": [
    {
     "data": {
      "text/plain": [
       "[('died', 0.7619524598121643),\n",
       " ('injured', 0.7405763268470764),\n",
       " ('killing', 0.7050834894180298),\n",
       " ('killedthe', 0.680660605430603),\n",
       " ('dead', 0.6711639761924744),\n",
       " ('murdered', 0.6700729131698608),\n",
       " ('massacred', 0.665936291217804),\n",
       " ('injuring', 0.6606487035751343),\n",
       " ('executed', 0.6601616740226746),\n",
       " ('wounded', 0.6398534774780273),\n",
       " ('arrested', 0.6393303275108337),\n",
       " ('kidnapped', 0.638087272644043),\n",
       " ('martyred', 0.6355556845664978),\n",
       " ('kills', 0.6263124942779541),\n",
       " ('slaughtered', 0.6139739751815796),\n",
       " ('destroyed', 0.6107479333877563),\n",
       " ('abducted', 0.607684850692749),\n",
       " ('hospitalised', 0.5991659164428711),\n",
       " ('rescued', 0.5977989435195923),\n",
       " ('claimed', 0.5971878170967102),\n",
       " ('wounding', 0.5964446663856506),\n",
       " ('detained', 0.5801970362663269),\n",
       " ('perished', 0.5680949687957764),\n",
       " ('attacked', 0.5654792785644531),\n",
       " ('left', 0.5522456765174866),\n",
       " ('struck', 0.5487983226776123),\n",
       " ('displaced', 0.5385329127311707),\n",
       " ('slain', 0.5271444320678711),\n",
       " ('deaths', 0.5233355760574341),\n",
       " ('captured', 0.5217229723930359),\n",
       " ('targeted', 0.5201775431632996),\n",
       " ('evacuated', 0.5179107189178467),\n",
       " ('trapped', 0.5172853469848633),\n",
       " ('beheaded', 0.5163289308547974),\n",
       " ('hospitalized', 0.5009974837303162),\n",
       " ('buried', 0.49526047706604004),\n",
       " ('blamed', 0.493978887796402),\n",
       " ('damaged', 0.4934019446372986),\n",
       " ('deadthe', 0.4928017258644104),\n",
       " ('freed', 0.4924830496311188),\n",
       " ('lost', 0.4910631775856018),\n",
       " ('missing', 0.48277753591537476),\n",
       " ('displacedthe', 0.4825979471206665),\n",
       " ('ambushed', 0.4813089966773987),\n",
       " ('hurt', 0.48050588369369507),\n",
       " ('assassinated', 0.48043912649154663),\n",
       " ('recovered', 0.4756503701210022),\n",
       " ('uprooted', 0.4751543402671814),\n",
       " ('rocked', 0.47434669733047485),\n",
       " ('shot', 0.47309523820877075)]"
      ]
     },
     "execution_count": 38,
     "metadata": {},
     "output_type": "execute_result"
    }
   ],
   "source": [
    "word2vec.most_similar(\"killed\", topn=50)"
   ]
  },
  {
   "cell_type": "code",
   "execution_count": 41,
   "metadata": {
    "collapsed": false
   },
   "outputs": [
    {
     "data": {
      "text/plain": [
       "['all_files_word2vec.pkl']"
      ]
     },
     "execution_count": 41,
     "metadata": {},
     "output_type": "execute_result"
    }
   ],
   "source": [
    "from sklearn.externals import joblib\n",
    "joblib.dump(word2vec, 'all_files_word2vec.pkl') "
   ]
  }
 ],
 "metadata": {
  "anaconda-cloud": {},
  "kernelspec": {
   "display_name": "Python 2",
   "language": "python",
   "name": "python2"
  },
  "language_info": {
   "codemirror_mode": {
    "name": "ipython",
    "version": 2
   },
   "file_extension": ".py",
   "mimetype": "text/x-python",
   "name": "python",
   "nbconvert_exporter": "python",
   "pygments_lexer": "ipython2",
   "version": "2.7.12"
  }
 },
 "nbformat": 4,
 "nbformat_minor": 1
}
