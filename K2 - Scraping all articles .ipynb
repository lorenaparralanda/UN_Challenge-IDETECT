{
 "cells": [
  {
   "cell_type": "markdown",
   "metadata": {},
   "source": [
    "# Scrape all articles"
   ]
  },
  {
   "cell_type": "code",
   "execution_count": 1,
   "metadata": {
    "collapsed": true
   },
   "outputs": [],
   "source": [
    "import pandas as pd\n",
    "import warnings\n",
    "warnings.filterwarnings(\"ignore\")\n",
    "import pickle\n",
    "import newspaper\n",
    "from newspaper import Article\n",
    "import pandas as pd\n",
    "import pickle"
   ]
  },
  {
   "cell_type": "code",
   "execution_count": 2,
   "metadata": {
    "collapsed": false
   },
   "outputs": [
    {
     "data": {
      "text/plain": [
       "(599624, 2)"
      ]
     },
     "execution_count": 2,
     "metadata": {},
     "output_type": "execute_result"
    }
   ],
   "source": [
    "# Import big CSV\n",
    "bigdf = pd.DataFrame.from_csv(\"idmc_uniteideas_input_url.csv\")\n",
    "bigdf.shape"
   ]
  },
  {
   "cell_type": "code",
   "execution_count": 3,
   "metadata": {
    "collapsed": true
   },
   "outputs": [],
   "source": [
    "# Rename columns\n",
    "bigdf = bigdf.rename(columns = {\"DATE\" : \"date\"})\n",
    "bigdf = bigdf.rename(columns = {\"DocumentIdentifier\" : \"url\"})"
   ]
  },
  {
   "cell_type": "code",
   "execution_count": 4,
   "metadata": {
    "collapsed": false
   },
   "outputs": [
    {
     "data": {
      "text/html": [
       "<div>\n",
       "<table border=\"1\" class=\"dataframe\">\n",
       "  <thead>\n",
       "    <tr style=\"text-align: right;\">\n",
       "      <th></th>\n",
       "      <th>date</th>\n",
       "      <th>url</th>\n",
       "    </tr>\n",
       "    <tr>\n",
       "      <th>GKGRECORDID</th>\n",
       "      <th></th>\n",
       "      <th></th>\n",
       "    </tr>\n",
       "  </thead>\n",
       "  <tbody>\n",
       "    <tr>\n",
       "      <th>20160512000000-2927</th>\n",
       "      <td>20160512000000</td>\n",
       "      <td>http://www.somalilandpress.com/iom-supports-dr...</td>\n",
       "    </tr>\n",
       "    <tr>\n",
       "      <th>20161114080000-854</th>\n",
       "      <td>20161114080000</td>\n",
       "      <td>http://www.9and10news.com/story/33699640/syria...</td>\n",
       "    </tr>\n",
       "    <tr>\n",
       "      <th>20161219200000-704</th>\n",
       "      <td>20161219200000</td>\n",
       "      <td>http://tribune.com.pk/story/1268397/saudi-led-...</td>\n",
       "    </tr>\n",
       "    <tr>\n",
       "      <th>20161219200000-177</th>\n",
       "      <td>20161219200000</td>\n",
       "      <td>http://www.tv360nigeria.com/nigerias-humanitar...</td>\n",
       "    </tr>\n",
       "    <tr>\n",
       "      <th>20161219200000-900</th>\n",
       "      <td>20161219200000</td>\n",
       "      <td>http://www.couriermail.com.au/news/world/ecuad...</td>\n",
       "    </tr>\n",
       "  </tbody>\n",
       "</table>\n",
       "</div>"
      ],
      "text/plain": [
       "                               date  \\\n",
       "GKGRECORDID                           \n",
       "20160512000000-2927  20160512000000   \n",
       "20161114080000-854   20161114080000   \n",
       "20161219200000-704   20161219200000   \n",
       "20161219200000-177   20161219200000   \n",
       "20161219200000-900   20161219200000   \n",
       "\n",
       "                                                                   url  \n",
       "GKGRECORDID                                                             \n",
       "20160512000000-2927  http://www.somalilandpress.com/iom-supports-dr...  \n",
       "20161114080000-854   http://www.9and10news.com/story/33699640/syria...  \n",
       "20161219200000-704   http://tribune.com.pk/story/1268397/saudi-led-...  \n",
       "20161219200000-177   http://www.tv360nigeria.com/nigerias-humanitar...  \n",
       "20161219200000-900   http://www.couriermail.com.au/news/world/ecuad...  "
      ]
     },
     "execution_count": 4,
     "metadata": {},
     "output_type": "execute_result"
    }
   ],
   "source": [
    "bigdf.head()"
   ]
  },
  {
   "cell_type": "code",
   "execution_count": 5,
   "metadata": {
    "collapsed": false
   },
   "outputs": [
    {
     "data": {
      "text/plain": [
       "599624"
      ]
     },
     "execution_count": 5,
     "metadata": {},
     "output_type": "execute_result"
    }
   ],
   "source": [
    "# Collect all urls\n",
    "all_filter_urls = []\n",
    "\n",
    "for url in bigdf.url:\n",
    "    all_filter_urls.append(url)\n",
    "    \n",
    "len(all_filter_urls)"
   ]
  },
  {
   "cell_type": "markdown",
   "metadata": {},
   "source": [
    "## Scrape article by article, store it in MongoDB"
   ]
  },
  {
   "cell_type": "code",
   "execution_count": 6,
   "metadata": {
    "collapsed": true
   },
   "outputs": [],
   "source": [
    "# Initiate Mongo\n",
    "from pymongo import MongoClient\n",
    "client = MongoClient('ec2-##-##-###-##.compute-1.amazonaws.com', 27017)"
   ]
  },
  {
   "cell_type": "code",
   "execution_count": 10,
   "metadata": {
    "collapsed": true
   },
   "outputs": [],
   "source": [
    "# AWS collection\n",
    "aws_0 = client.idetect.aws_0"
   ]
  },
  {
   "cell_type": "code",
   "execution_count": 11,
   "metadata": {
    "collapsed": true
   },
   "outputs": [],
   "source": [
    "def html_pages(url):\n",
    "    info = {}\n",
    "    \n",
    "    article = Article(url)\n",
    "    article.download()\n",
    "    article.parse()\n",
    "    article.nlp()\n",
    "\n",
    "    valid = article.is_valid_url()\n",
    "    authors = article.authors\n",
    "    date = article.publish_date\n",
    "    text = article.text\n",
    "    keywords = article.keywords\n",
    "    summary = article.summary\n",
    "    image = article.top_image\n",
    "\n",
    "    info['url'] = url\n",
    "    info['valid'] = valid\n",
    "    info['authors'] = authors\n",
    "    info['date'] = date\n",
    "    info['text'] = text\n",
    "    info['keywords'] = keywords\n",
    "    info['summary'] = summary\n",
    "    info['image'] = image\n",
    "\n",
    "    aws_0.insert_one(info)"
   ]
  },
  {
   "cell_type": "code",
   "execution_count": null,
   "metadata": {
    "collapsed": true
   },
   "outputs": [],
   "source": [
    "for url in all_filter_urls:\n",
    "    try:\n",
    "        html_pages(url)    \n",
    "    except:\n",
    "        continue "
   ]
  }
 ],
 "metadata": {
  "kernelspec": {
   "display_name": "Python 2",
   "language": "python",
   "name": "python2"
  },
  "language_info": {
   "codemirror_mode": {
    "name": "ipython",
    "version": 2
   },
   "file_extension": ".py",
   "mimetype": "text/x-python",
   "name": "python",
   "nbconvert_exporter": "python",
   "pygments_lexer": "ipython2",
   "version": "2.7.12"
  }
 },
 "nbformat": 4,
 "nbformat_minor": 1
}
