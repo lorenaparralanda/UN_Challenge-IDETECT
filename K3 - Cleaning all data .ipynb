{
 "cells": [
  {
   "cell_type": "markdown",
   "metadata": {},
   "source": [
    "# Cleaning data"
   ]
  },
  {
   "cell_type": "code",
   "execution_count": 1,
   "metadata": {
    "collapsed": true
   },
   "outputs": [],
   "source": [
    "import pandas as pd\n",
    "import pickle"
   ]
  },
  {
   "cell_type": "code",
   "execution_count": 53,
   "metadata": {
    "collapsed": true
   },
   "outputs": [],
   "source": [
    "# Connect to Mongo\n",
    "from pymongo import MongoClient\n",
    "client = MongoClient('ec2-##-##-###-##.compute-1.amazonaws.com', 27017)"
   ]
  },
  {
   "cell_type": "code",
   "execution_count": 74,
   "metadata": {
    "collapsed": false
   },
   "outputs": [
    {
     "data": {
      "text/plain": [
       "99292"
      ]
     },
     "execution_count": 74,
     "metadata": {},
     "output_type": "execute_result"
    }
   ],
   "source": [
    "# Check collection\n",
    "client.idetect.aws_0.count()"
   ]
  },
  {
   "cell_type": "code",
   "execution_count": 75,
   "metadata": {
    "collapsed": true
   },
   "outputs": [],
   "source": [
    "# Create dataframe\n",
    "df = pd.DataFrame(list(client.idetect.aws_0.find()))"
   ]
  },
  {
   "cell_type": "code",
   "execution_count": 76,
   "metadata": {
    "collapsed": false
   },
   "outputs": [
    {
     "data": {
      "text/plain": [
       "(99292, 9)"
      ]
     },
     "execution_count": 76,
     "metadata": {},
     "output_type": "execute_result"
    }
   ],
   "source": [
    "df.shape"
   ]
  },
  {
   "cell_type": "code",
   "execution_count": 77,
   "metadata": {
    "collapsed": true
   },
   "outputs": [],
   "source": [
    "with open('0.pkl', \"wb\") as picklefile:\n",
    "    pickle.dump(df, picklefile)"
   ]
  },
  {
   "cell_type": "code",
   "execution_count": 78,
   "metadata": {
    "collapsed": false
   },
   "outputs": [
    {
     "data": {
      "text/html": [
       "<div>\n",
       "<table border=\"1\" class=\"dataframe\">\n",
       "  <thead>\n",
       "    <tr style=\"text-align: right;\">\n",
       "      <th></th>\n",
       "      <th>_id</th>\n",
       "      <th>authors</th>\n",
       "      <th>date</th>\n",
       "      <th>image</th>\n",
       "      <th>keywords</th>\n",
       "      <th>summary</th>\n",
       "      <th>text</th>\n",
       "      <th>url</th>\n",
       "      <th>valid</th>\n",
       "    </tr>\n",
       "  </thead>\n",
       "  <tbody>\n",
       "    <tr>\n",
       "      <th>0</th>\n",
       "      <td>58c94fc7d897da23f9f5a246</td>\n",
       "      <td>[]</td>\n",
       "      <td>NaT</td>\n",
       "      <td></td>\n",
       "      <td>[somalilandpress, meant, appear, javascript, r...</td>\n",
       "      <td>In order for you to see this page as it is mea...</td>\n",
       "      <td>Oops! It appears that you have disabled your J...</td>\n",
       "      <td>http://www.somalilandpress.com/iom-supports-dr...</td>\n",
       "      <td>True</td>\n",
       "    </tr>\n",
       "    <tr>\n",
       "      <th>1</th>\n",
       "      <td>58c94fc9d897da23f9f5a247</td>\n",
       "      <td>[]</td>\n",
       "      <td>NaT</td>\n",
       "      <td></td>\n",
       "      <td>[requested, updated, return, unavailable, nort...</td>\n",
       "      <td>You may have followed an outdated link or have...</td>\n",
       "      <td>The page you requested is currently unavailabl...</td>\n",
       "      <td>http://www.9and10news.com/story/33699640/syria...</td>\n",
       "      <td>True</td>\n",
       "    </tr>\n",
       "    <tr>\n",
       "      <th>2</th>\n",
       "      <td>58c94fcad897da23f9f5a248</td>\n",
       "      <td>[]</td>\n",
       "      <td>2016-12-19 19:32:57</td>\n",
       "      <td>https://c.tribune.com.pk/2016/12/1268397-saudi...</td>\n",
       "      <td>[defence, bombs, sold, coalition, british, war...</td>\n",
       "      <td>“However, Saudi Arabia has now confirmed it wi...</td>\n",
       "      <td>The war has killed more than 10,000 people and...</td>\n",
       "      <td>http://tribune.com.pk/story/1268397/saudi-led-...</td>\n",
       "      <td>True</td>\n",
       "    </tr>\n",
       "    <tr>\n",
       "      <th>3</th>\n",
       "      <td>58c94fd4d897da23f9f5a249</td>\n",
       "      <td>[Reuters Staff Writers News Corp Australia Net...</td>\n",
       "      <td>2016-12-20 02:51:00</td>\n",
       "      <td>http://cdn.newsapi.com.au/image/v1/0152297c79d...</td>\n",
       "      <td>[homes, oil, followed, quake, deadly, coast, e...</td>\n",
       "      <td>That quake flattened homes and buildings up an...</td>\n",
       "      <td>A 5.7 MAGNITUDE earthquake followed by 37 afte...</td>\n",
       "      <td>http://www.couriermail.com.au/news/world/ecuad...</td>\n",
       "      <td>True</td>\n",
       "    </tr>\n",
       "    <tr>\n",
       "      <th>4</th>\n",
       "      <td>58c94fd4d897da23f9f5a24a</td>\n",
       "      <td>[]</td>\n",
       "      <td>NaT</td>\n",
       "      <td></td>\n",
       "      <td>[file]</td>\n",
       "      <td></td>\n",
       "      <td></td>\n",
       "      <td>http://journalstar.com/news/world/un-approves-...</td>\n",
       "      <td>True</td>\n",
       "    </tr>\n",
       "  </tbody>\n",
       "</table>\n",
       "</div>"
      ],
      "text/plain": [
       "                        _id  \\\n",
       "0  58c94fc7d897da23f9f5a246   \n",
       "1  58c94fc9d897da23f9f5a247   \n",
       "2  58c94fcad897da23f9f5a248   \n",
       "3  58c94fd4d897da23f9f5a249   \n",
       "4  58c94fd4d897da23f9f5a24a   \n",
       "\n",
       "                                             authors                date  \\\n",
       "0                                                 []                 NaT   \n",
       "1                                                 []                 NaT   \n",
       "2                                                 [] 2016-12-19 19:32:57   \n",
       "3  [Reuters Staff Writers News Corp Australia Net... 2016-12-20 02:51:00   \n",
       "4                                                 []                 NaT   \n",
       "\n",
       "                                               image  \\\n",
       "0                                                      \n",
       "1                                                      \n",
       "2  https://c.tribune.com.pk/2016/12/1268397-saudi...   \n",
       "3  http://cdn.newsapi.com.au/image/v1/0152297c79d...   \n",
       "4                                                      \n",
       "\n",
       "                                            keywords  \\\n",
       "0  [somalilandpress, meant, appear, javascript, r...   \n",
       "1  [requested, updated, return, unavailable, nort...   \n",
       "2  [defence, bombs, sold, coalition, british, war...   \n",
       "3  [homes, oil, followed, quake, deadly, coast, e...   \n",
       "4                                             [file]   \n",
       "\n",
       "                                             summary  \\\n",
       "0  In order for you to see this page as it is mea...   \n",
       "1  You may have followed an outdated link or have...   \n",
       "2  “However, Saudi Arabia has now confirmed it wi...   \n",
       "3  That quake flattened homes and buildings up an...   \n",
       "4                                                      \n",
       "\n",
       "                                                text  \\\n",
       "0  Oops! It appears that you have disabled your J...   \n",
       "1  The page you requested is currently unavailabl...   \n",
       "2  The war has killed more than 10,000 people and...   \n",
       "3  A 5.7 MAGNITUDE earthquake followed by 37 afte...   \n",
       "4                                                      \n",
       "\n",
       "                                                 url valid  \n",
       "0  http://www.somalilandpress.com/iom-supports-dr...  True  \n",
       "1  http://www.9and10news.com/story/33699640/syria...  True  \n",
       "2  http://tribune.com.pk/story/1268397/saudi-led-...  True  \n",
       "3  http://www.couriermail.com.au/news/world/ecuad...  True  \n",
       "4  http://journalstar.com/news/world/un-approves-...  True  "
      ]
     },
     "execution_count": 78,
     "metadata": {},
     "output_type": "execute_result"
    }
   ],
   "source": [
    "df.head()"
   ]
  },
  {
   "cell_type": "code",
   "execution_count": 80,
   "metadata": {
    "collapsed": false
   },
   "outputs": [
    {
     "data": {
      "text/plain": [
       "_id             0\n",
       "authors         0\n",
       "date        62589\n",
       "image           0\n",
       "keywords        0\n",
       "summary         0\n",
       "text            0\n",
       "url             0\n",
       "valid           0\n",
       "dtype: int64"
      ]
     },
     "execution_count": 80,
     "metadata": {},
     "output_type": "execute_result"
    }
   ],
   "source": [
    "df.isnull().sum()"
   ]
  },
  {
   "cell_type": "code",
   "execution_count": 81,
   "metadata": {
    "collapsed": true
   },
   "outputs": [],
   "source": [
    "# Encode\n",
    "df['decode_text'] = df.text.apply(lambda x: x.encode(\"ascii\",\"ignore\"))"
   ]
  },
  {
   "cell_type": "code",
   "execution_count": 82,
   "metadata": {
    "collapsed": false
   },
   "outputs": [
    {
     "data": {
      "text/plain": [
       "str"
      ]
     },
     "execution_count": 82,
     "metadata": {},
     "output_type": "execute_result"
    }
   ],
   "source": [
    "type(df.iloc[1]['decode_text'])"
   ]
  },
  {
   "cell_type": "code",
   "execution_count": 83,
   "metadata": {
    "collapsed": true
   },
   "outputs": [],
   "source": [
    "# Filter out empty text\n",
    "df2 = df[df.decode_text != '']"
   ]
  },
  {
   "cell_type": "code",
   "execution_count": 84,
   "metadata": {
    "collapsed": false
   },
   "outputs": [
    {
     "data": {
      "text/plain": [
       "(84685, 10)"
      ]
     },
     "execution_count": 84,
     "metadata": {},
     "output_type": "execute_result"
    }
   ],
   "source": [
    "df2.shape"
   ]
  },
  {
   "cell_type": "code",
   "execution_count": 85,
   "metadata": {
    "collapsed": false
   },
   "outputs": [
    {
     "data": {
      "text/html": [
       "<div>\n",
       "<table border=\"1\" class=\"dataframe\">\n",
       "  <thead>\n",
       "    <tr style=\"text-align: right;\">\n",
       "      <th></th>\n",
       "      <th>_id</th>\n",
       "      <th>authors</th>\n",
       "      <th>date</th>\n",
       "      <th>image</th>\n",
       "      <th>keywords</th>\n",
       "      <th>summary</th>\n",
       "      <th>text</th>\n",
       "      <th>url</th>\n",
       "      <th>valid</th>\n",
       "      <th>decode_text</th>\n",
       "    </tr>\n",
       "  </thead>\n",
       "  <tbody>\n",
       "    <tr>\n",
       "      <th>0</th>\n",
       "      <td>58c94fc7d897da23f9f5a246</td>\n",
       "      <td>[]</td>\n",
       "      <td>NaT</td>\n",
       "      <td></td>\n",
       "      <td>[somalilandpress, meant, appear, javascript, r...</td>\n",
       "      <td>In order for you to see this page as it is mea...</td>\n",
       "      <td>Oops! It appears that you have disabled your J...</td>\n",
       "      <td>http://www.somalilandpress.com/iom-supports-dr...</td>\n",
       "      <td>True</td>\n",
       "      <td>Oops! It appears that you have disabled your J...</td>\n",
       "    </tr>\n",
       "    <tr>\n",
       "      <th>1</th>\n",
       "      <td>58c94fc9d897da23f9f5a247</td>\n",
       "      <td>[]</td>\n",
       "      <td>NaT</td>\n",
       "      <td></td>\n",
       "      <td>[requested, updated, return, unavailable, nort...</td>\n",
       "      <td>You may have followed an outdated link or have...</td>\n",
       "      <td>The page you requested is currently unavailabl...</td>\n",
       "      <td>http://www.9and10news.com/story/33699640/syria...</td>\n",
       "      <td>True</td>\n",
       "      <td>The page you requested is currently unavailabl...</td>\n",
       "    </tr>\n",
       "    <tr>\n",
       "      <th>2</th>\n",
       "      <td>58c94fcad897da23f9f5a248</td>\n",
       "      <td>[]</td>\n",
       "      <td>2016-12-19 19:32:57</td>\n",
       "      <td>https://c.tribune.com.pk/2016/12/1268397-saudi...</td>\n",
       "      <td>[defence, bombs, sold, coalition, british, war...</td>\n",
       "      <td>“However, Saudi Arabia has now confirmed it wi...</td>\n",
       "      <td>The war has killed more than 10,000 people and...</td>\n",
       "      <td>http://tribune.com.pk/story/1268397/saudi-led-...</td>\n",
       "      <td>True</td>\n",
       "      <td>The war has killed more than 10,000 people and...</td>\n",
       "    </tr>\n",
       "    <tr>\n",
       "      <th>3</th>\n",
       "      <td>58c94fd4d897da23f9f5a249</td>\n",
       "      <td>[Reuters Staff Writers News Corp Australia Net...</td>\n",
       "      <td>2016-12-20 02:51:00</td>\n",
       "      <td>http://cdn.newsapi.com.au/image/v1/0152297c79d...</td>\n",
       "      <td>[homes, oil, followed, quake, deadly, coast, e...</td>\n",
       "      <td>That quake flattened homes and buildings up an...</td>\n",
       "      <td>A 5.7 MAGNITUDE earthquake followed by 37 afte...</td>\n",
       "      <td>http://www.couriermail.com.au/news/world/ecuad...</td>\n",
       "      <td>True</td>\n",
       "      <td>A 5.7 MAGNITUDE earthquake followed by 37 afte...</td>\n",
       "    </tr>\n",
       "    <tr>\n",
       "      <th>6</th>\n",
       "      <td>58c94fd6d897da23f9f5a24c</td>\n",
       "      <td>[]</td>\n",
       "      <td>NaT</td>\n",
       "      <td>http://ftpcontent.worldnow.com/wncustom/custom...</td>\n",
       "      <td>[requested, updated, removed, return, unavaila...</td>\n",
       "      <td>You may have followed an outdated link or have...</td>\n",
       "      <td>The page you requested is currently unavailabl...</td>\n",
       "      <td>http://www.nbc-2.com/story/32756524/the-latest...</td>\n",
       "      <td>True</td>\n",
       "      <td>The page you requested is currently unavailabl...</td>\n",
       "    </tr>\n",
       "  </tbody>\n",
       "</table>\n",
       "</div>"
      ],
      "text/plain": [
       "                        _id  \\\n",
       "0  58c94fc7d897da23f9f5a246   \n",
       "1  58c94fc9d897da23f9f5a247   \n",
       "2  58c94fcad897da23f9f5a248   \n",
       "3  58c94fd4d897da23f9f5a249   \n",
       "6  58c94fd6d897da23f9f5a24c   \n",
       "\n",
       "                                             authors                date  \\\n",
       "0                                                 []                 NaT   \n",
       "1                                                 []                 NaT   \n",
       "2                                                 [] 2016-12-19 19:32:57   \n",
       "3  [Reuters Staff Writers News Corp Australia Net... 2016-12-20 02:51:00   \n",
       "6                                                 []                 NaT   \n",
       "\n",
       "                                               image  \\\n",
       "0                                                      \n",
       "1                                                      \n",
       "2  https://c.tribune.com.pk/2016/12/1268397-saudi...   \n",
       "3  http://cdn.newsapi.com.au/image/v1/0152297c79d...   \n",
       "6  http://ftpcontent.worldnow.com/wncustom/custom...   \n",
       "\n",
       "                                            keywords  \\\n",
       "0  [somalilandpress, meant, appear, javascript, r...   \n",
       "1  [requested, updated, return, unavailable, nort...   \n",
       "2  [defence, bombs, sold, coalition, british, war...   \n",
       "3  [homes, oil, followed, quake, deadly, coast, e...   \n",
       "6  [requested, updated, removed, return, unavaila...   \n",
       "\n",
       "                                             summary  \\\n",
       "0  In order for you to see this page as it is mea...   \n",
       "1  You may have followed an outdated link or have...   \n",
       "2  “However, Saudi Arabia has now confirmed it wi...   \n",
       "3  That quake flattened homes and buildings up an...   \n",
       "6  You may have followed an outdated link or have...   \n",
       "\n",
       "                                                text  \\\n",
       "0  Oops! It appears that you have disabled your J...   \n",
       "1  The page you requested is currently unavailabl...   \n",
       "2  The war has killed more than 10,000 people and...   \n",
       "3  A 5.7 MAGNITUDE earthquake followed by 37 afte...   \n",
       "6  The page you requested is currently unavailabl...   \n",
       "\n",
       "                                                 url valid  \\\n",
       "0  http://www.somalilandpress.com/iom-supports-dr...  True   \n",
       "1  http://www.9and10news.com/story/33699640/syria...  True   \n",
       "2  http://tribune.com.pk/story/1268397/saudi-led-...  True   \n",
       "3  http://www.couriermail.com.au/news/world/ecuad...  True   \n",
       "6  http://www.nbc-2.com/story/32756524/the-latest...  True   \n",
       "\n",
       "                                         decode_text  \n",
       "0  Oops! It appears that you have disabled your J...  \n",
       "1  The page you requested is currently unavailabl...  \n",
       "2  The war has killed more than 10,000 people and...  \n",
       "3  A 5.7 MAGNITUDE earthquake followed by 37 afte...  \n",
       "6  The page you requested is currently unavailabl...  "
      ]
     },
     "execution_count": 85,
     "metadata": {},
     "output_type": "execute_result"
    }
   ],
   "source": [
    "df2.head()"
   ]
  },
  {
   "cell_type": "code",
   "execution_count": 86,
   "metadata": {
    "collapsed": false
   },
   "outputs": [],
   "source": [
    "def server_error(text):\n",
    "    if text.startswith(\"Server Error\") or text.startswith(\"404\") or text.startswith(\"Not Found\")\\\n",
    "    or text.startswith(\"E-mail address\"):\n",
    "        return \"error\"\n",
    "    else:\n",
    "        return \"all good\""
   ]
  },
  {
   "cell_type": "code",
   "execution_count": 1,
   "metadata": {
    "collapsed": false
   },
   "outputs": [],
   "source": [
    "df2['error'] = df2.decode_text.apply(server_error)"
   ]
  },
  {
   "cell_type": "code",
   "execution_count": 88,
   "metadata": {
    "collapsed": false
   },
   "outputs": [
    {
     "data": {
      "text/plain": [
       "all good    81358\n",
       "error        3327\n",
       "Name: error, dtype: int64"
      ]
     },
     "execution_count": 88,
     "metadata": {},
     "output_type": "execute_result"
    }
   ],
   "source": [
    "# Filter out some errors\n",
    "df2.error.value_counts()"
   ]
  },
  {
   "cell_type": "code",
   "execution_count": 90,
   "metadata": {
    "collapsed": true
   },
   "outputs": [],
   "source": [
    "df3 = df2[df2.error == 'all good']"
   ]
  },
  {
   "cell_type": "code",
   "execution_count": 91,
   "metadata": {
    "collapsed": false
   },
   "outputs": [
    {
     "data": {
      "text/plain": [
       "(81358, 11)"
      ]
     },
     "execution_count": 91,
     "metadata": {},
     "output_type": "execute_result"
    }
   ],
   "source": [
    "df3.shape"
   ]
  },
  {
   "cell_type": "markdown",
   "metadata": {},
   "source": [
    "## Merge tags"
   ]
  },
  {
   "cell_type": "code",
   "execution_count": 92,
   "metadata": {
    "collapsed": true
   },
   "outputs": [],
   "source": [
    "bigdata = pd.DataFrame.from_csv(\"idmc_uniteideas_input_url.csv\")"
   ]
  },
  {
   "cell_type": "code",
   "execution_count": 93,
   "metadata": {
    "collapsed": false
   },
   "outputs": [],
   "source": [
    "bigdata = bigdata.rename(columns = {'DocumentIdentifier':'url'})\n",
    "bigdata = bigdata.rename(columns={'DATE':\"date\"})"
   ]
  },
  {
   "cell_type": "code",
   "execution_count": 94,
   "metadata": {
    "collapsed": false
   },
   "outputs": [
    {
     "data": {
      "text/html": [
       "<div>\n",
       "<table border=\"1\" class=\"dataframe\">\n",
       "  <thead>\n",
       "    <tr style=\"text-align: right;\">\n",
       "      <th></th>\n",
       "      <th>date</th>\n",
       "      <th>url</th>\n",
       "    </tr>\n",
       "    <tr>\n",
       "      <th>GKGRECORDID</th>\n",
       "      <th></th>\n",
       "      <th></th>\n",
       "    </tr>\n",
       "  </thead>\n",
       "  <tbody>\n",
       "    <tr>\n",
       "      <th>20160512000000-2927</th>\n",
       "      <td>20160512000000</td>\n",
       "      <td>http://www.somalilandpress.com/iom-supports-dr...</td>\n",
       "    </tr>\n",
       "    <tr>\n",
       "      <th>20161114080000-854</th>\n",
       "      <td>20161114080000</td>\n",
       "      <td>http://www.9and10news.com/story/33699640/syria...</td>\n",
       "    </tr>\n",
       "    <tr>\n",
       "      <th>20161219200000-704</th>\n",
       "      <td>20161219200000</td>\n",
       "      <td>http://tribune.com.pk/story/1268397/saudi-led-...</td>\n",
       "    </tr>\n",
       "    <tr>\n",
       "      <th>20161219200000-177</th>\n",
       "      <td>20161219200000</td>\n",
       "      <td>http://www.tv360nigeria.com/nigerias-humanitar...</td>\n",
       "    </tr>\n",
       "    <tr>\n",
       "      <th>20161219200000-900</th>\n",
       "      <td>20161219200000</td>\n",
       "      <td>http://www.couriermail.com.au/news/world/ecuad...</td>\n",
       "    </tr>\n",
       "  </tbody>\n",
       "</table>\n",
       "</div>"
      ],
      "text/plain": [
       "                               date  \\\n",
       "GKGRECORDID                           \n",
       "20160512000000-2927  20160512000000   \n",
       "20161114080000-854   20161114080000   \n",
       "20161219200000-704   20161219200000   \n",
       "20161219200000-177   20161219200000   \n",
       "20161219200000-900   20161219200000   \n",
       "\n",
       "                                                                   url  \n",
       "GKGRECORDID                                                             \n",
       "20160512000000-2927  http://www.somalilandpress.com/iom-supports-dr...  \n",
       "20161114080000-854   http://www.9and10news.com/story/33699640/syria...  \n",
       "20161219200000-704   http://tribune.com.pk/story/1268397/saudi-led-...  \n",
       "20161219200000-177   http://www.tv360nigeria.com/nigerias-humanitar...  \n",
       "20161219200000-900   http://www.couriermail.com.au/news/world/ecuad...  "
      ]
     },
     "execution_count": 94,
     "metadata": {},
     "output_type": "execute_result"
    }
   ],
   "source": [
    "bigdata.head()"
   ]
  },
  {
   "cell_type": "code",
   "execution_count": 95,
   "metadata": {
    "collapsed": true
   },
   "outputs": [],
   "source": [
    "both_df = pd.merge(df3, bigdata, how='inner', on='url')"
   ]
  },
  {
   "cell_type": "code",
   "execution_count": 96,
   "metadata": {
    "collapsed": false
   },
   "outputs": [
    {
     "data": {
      "text/plain": [
       "(81358, 12)"
      ]
     },
     "execution_count": 96,
     "metadata": {},
     "output_type": "execute_result"
    }
   ],
   "source": [
    "both_df.shape"
   ]
  },
  {
   "cell_type": "markdown",
   "metadata": {},
   "source": [
    "## Detect and filter by language"
   ]
  },
  {
   "cell_type": "code",
   "execution_count": 97,
   "metadata": {
    "collapsed": true
   },
   "outputs": [],
   "source": [
    "from langdetect import detect"
   ]
  },
  {
   "cell_type": "code",
   "execution_count": 98,
   "metadata": {
    "collapsed": false
   },
   "outputs": [
    {
     "data": {
      "text/plain": [
       "u'en'"
      ]
     },
     "execution_count": 98,
     "metadata": {},
     "output_type": "execute_result"
    }
   ],
   "source": [
    "detect(both_df.iloc[0]['decode_text'])"
   ]
  },
  {
   "cell_type": "code",
   "execution_count": 99,
   "metadata": {
    "collapsed": true
   },
   "outputs": [],
   "source": [
    "def language_detect(x):\n",
    "    try: \n",
    "        return detect(x)\n",
    "    except:\n",
    "        return \"Dunno\""
   ]
  },
  {
   "cell_type": "code",
   "execution_count": 100,
   "metadata": {
    "collapsed": false
   },
   "outputs": [],
   "source": [
    "both_df['language'] = both_df.decode_text.apply(language_detect)"
   ]
  },
  {
   "cell_type": "code",
   "execution_count": 101,
   "metadata": {
    "collapsed": false
   },
   "outputs": [
    {
     "data": {
      "text/plain": [
       "en       81140\n",
       "fr         120\n",
       "af          19\n",
       "id          19\n",
       "de          19\n",
       "Dunno       18\n",
       "es           5\n",
       "ca           4\n",
       "nl           4\n",
       "it           3\n",
       "da           2\n",
       "cy           1\n",
       "pl           1\n",
       "tl           1\n",
       "so           1\n",
       "no           1\n",
       "Name: language, dtype: int64"
      ]
     },
     "execution_count": 101,
     "metadata": {},
     "output_type": "execute_result"
    }
   ],
   "source": [
    "both_df.language.value_counts()"
   ]
  },
  {
   "cell_type": "code",
   "execution_count": 102,
   "metadata": {
    "collapsed": false
   },
   "outputs": [],
   "source": [
    "final_0 = both_df[both_df.language == 'en']"
   ]
  },
  {
   "cell_type": "code",
   "execution_count": 103,
   "metadata": {
    "collapsed": false
   },
   "outputs": [
    {
     "data": {
      "text/plain": [
       "(81140, 13)"
      ]
     },
     "execution_count": 103,
     "metadata": {},
     "output_type": "execute_result"
    }
   ],
   "source": [
    "final_0.shape"
   ]
  },
  {
   "cell_type": "code",
   "execution_count": 105,
   "metadata": {
    "collapsed": false
   },
   "outputs": [],
   "source": [
    "with open('0.pkl', \"wb\") as picklefile:\n",
    "    pickle.dump(final_0, picklefile)\n",
    "    "
   ]
  },
  {
   "cell_type": "code",
   "execution_count": null,
   "metadata": {
    "collapsed": true
   },
   "outputs": [],
   "source": []
  }
 ],
 "metadata": {
  "anaconda-cloud": {},
  "kernelspec": {
   "display_name": "Python 2",
   "language": "python",
   "name": "python2"
  },
  "language_info": {
   "codemirror_mode": {
    "name": "ipython",
    "version": 2
   },
   "file_extension": ".py",
   "mimetype": "text/x-python",
   "name": "python",
   "nbconvert_exporter": "python",
   "pygments_lexer": "ipython2",
   "version": "2.7.12"
  }
 },
 "nbformat": 4,
 "nbformat_minor": 1
}
