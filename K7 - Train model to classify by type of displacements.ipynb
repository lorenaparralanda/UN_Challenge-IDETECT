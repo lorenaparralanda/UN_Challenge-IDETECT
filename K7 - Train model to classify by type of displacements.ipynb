{
 "cells": [
  {
   "cell_type": "markdown",
   "metadata": {},
   "source": [
    "# Tagging - TFIDF + NB"
   ]
  },
  {
   "cell_type": "code",
   "execution_count": 1,
   "metadata": {
    "collapsed": true
   },
   "outputs": [],
   "source": [
    "import pandas as pd\n",
    "import pickle\n",
    "import numpy as np\n",
    "from sklearn.model_selection import train_test_split\n",
    "from sklearn.feature_extraction.text import TfidfVectorizer\n",
    "from sklearn.naive_bayes import MultinomialNB\n",
    "from sklearn.naive_bayes import BernoulliNB\n",
    "from sklearn.metrics import confusion_matrix\n",
    "from sklearn.metrics import accuracy_score, precision_score, recall_score, f1_score\n",
    "from sklearn.metrics import classification_report\n",
    "from sklearn.ensemble import RandomForestClassifier\n",
    "from imblearn.over_sampling import SMOTE\n",
    "from imblearn.under_sampling import NearMiss"
   ]
  },
  {
   "cell_type": "code",
   "execution_count": 2,
   "metadata": {
    "collapsed": false
   },
   "outputs": [],
   "source": [
    "# Bring in data\n",
    "with open(\"clean_trainig_data.pkl\", \"rb\") as picklefile:\n",
    "    df = pickle.load(picklefile)"
   ]
  },
  {
   "cell_type": "code",
   "execution_count": 3,
   "metadata": {
    "collapsed": true
   },
   "outputs": [],
   "source": [
    "# Assign doc id\n",
    "df = df.assign(doc_id=[0 + i for i in xrange(len(df))])"
   ]
  },
  {
   "cell_type": "code",
   "execution_count": 4,
   "metadata": {
    "collapsed": false
   },
   "outputs": [
    {
     "data": {
      "text/html": [
       "<div>\n",
       "<table border=\"1\" class=\"dataframe\">\n",
       "  <thead>\n",
       "    <tr style=\"text-align: right;\">\n",
       "      <th></th>\n",
       "      <th>authors</th>\n",
       "      <th>date</th>\n",
       "      <th>image</th>\n",
       "      <th>keywords</th>\n",
       "      <th>summary</th>\n",
       "      <th>text</th>\n",
       "      <th>url</th>\n",
       "      <th>valid</th>\n",
       "      <th>decode_text</th>\n",
       "      <th>error</th>\n",
       "      <th>Tag</th>\n",
       "      <th>language</th>\n",
       "      <th>doc_id</th>\n",
       "    </tr>\n",
       "  </thead>\n",
       "  <tbody>\n",
       "    <tr>\n",
       "      <th>0</th>\n",
       "      <td>NaN</td>\n",
       "      <td>NaN</td>\n",
       "      <td>NaN</td>\n",
       "      <td>NaN</td>\n",
       "      <td>NaN</td>\n",
       "      <td>United Nations  S/2015/302   Security Council...</td>\n",
       "      <td>http://www.securitycouncilreport.org/atf/cf/%7...</td>\n",
       "      <td>NaN</td>\n",
       "      <td>United Nations  S/2015/302   Security Council...</td>\n",
       "      <td>all good</td>\n",
       "      <td>Conflict and violence</td>\n",
       "      <td>en</td>\n",
       "      <td>0</td>\n",
       "    </tr>\n",
       "    <tr>\n",
       "      <th>1</th>\n",
       "      <td>[Heather Saul]</td>\n",
       "      <td>2013-08-05 12:33:51+01:00</td>\n",
       "      <td>https://static.independent.co.uk/s3fs-public/t...</td>\n",
       "      <td>[pakistan, homes, remote, afghanistan, floodin...</td>\n",
       "      <td>Flash flooding across Afghanistan and Pakistan...</td>\n",
       "      <td>Flash flooding across Afghanistan and Pakistan...</td>\n",
       "      <td>http://www.independent.co.uk/news/world/asia/1...</td>\n",
       "      <td>True</td>\n",
       "      <td>Flash flooding across Afghanistan and Pakistan...</td>\n",
       "      <td>all good</td>\n",
       "      <td>Disasters</td>\n",
       "      <td>en</td>\n",
       "      <td>1</td>\n",
       "    </tr>\n",
       "    <tr>\n",
       "      <th>2</th>\n",
       "      <td>NaN</td>\n",
       "      <td>NaN</td>\n",
       "      <td>NaN</td>\n",
       "      <td>NaN</td>\n",
       "      <td>NaN</td>\n",
       "      <td>www.unocha.org The mission of the United Natio...</td>\n",
       "      <td>http://reliefweb.int/sites/reliefweb.int/files...</td>\n",
       "      <td>NaN</td>\n",
       "      <td>www.unocha.org The mission of the United Natio...</td>\n",
       "      <td>all good</td>\n",
       "      <td>Disasters</td>\n",
       "      <td>en</td>\n",
       "      <td>2</td>\n",
       "    </tr>\n",
       "    <tr>\n",
       "      <th>3</th>\n",
       "      <td>[]</td>\n",
       "      <td>2015-05-11 09:15:05+00:00</td>\n",
       "      <td>http://floodlist.com/wp-content/uploads/2015/0...</td>\n",
       "      <td>[baghlan, afghanistan, agency, province, distr...</td>\n",
       "      <td>Flash floods struck on 08 May 2015 in Faryab P...</td>\n",
       "      <td>Afghanistan state news agency, Bakhtar News Ag...</td>\n",
       "      <td>http://floodlist.com/asia/afghanistan-flash-fl...</td>\n",
       "      <td>True</td>\n",
       "      <td>Afghanistan state news agency, Bakhtar News Ag...</td>\n",
       "      <td>all good</td>\n",
       "      <td>Disasters</td>\n",
       "      <td>en</td>\n",
       "      <td>3</td>\n",
       "    </tr>\n",
       "    <tr>\n",
       "      <th>4</th>\n",
       "      <td>[]</td>\n",
       "      <td>2015-07-27 11:42:21+00:00</td>\n",
       "      <td>http://floodlist.com/wp-content/uploads/2015/0...</td>\n",
       "      <td>[province, official, hit, district, floods, fl...</td>\n",
       "      <td>According to reports from Chinese state news a...</td>\n",
       "      <td>Flash floods have struck once again in the Bad...</td>\n",
       "      <td>http://floodlist.com/asia/afghanistan-6-dead-f...</td>\n",
       "      <td>True</td>\n",
       "      <td>Flash floods have struck once again in the Bad...</td>\n",
       "      <td>all good</td>\n",
       "      <td>Disasters</td>\n",
       "      <td>en</td>\n",
       "      <td>4</td>\n",
       "    </tr>\n",
       "  </tbody>\n",
       "</table>\n",
       "</div>"
      ],
      "text/plain": [
       "          authors                       date  \\\n",
       "0             NaN                        NaN   \n",
       "1  [Heather Saul]  2013-08-05 12:33:51+01:00   \n",
       "2             NaN                        NaN   \n",
       "3              []  2015-05-11 09:15:05+00:00   \n",
       "4              []  2015-07-27 11:42:21+00:00   \n",
       "\n",
       "                                               image  \\\n",
       "0                                                NaN   \n",
       "1  https://static.independent.co.uk/s3fs-public/t...   \n",
       "2                                                NaN   \n",
       "3  http://floodlist.com/wp-content/uploads/2015/0...   \n",
       "4  http://floodlist.com/wp-content/uploads/2015/0...   \n",
       "\n",
       "                                            keywords  \\\n",
       "0                                                NaN   \n",
       "1  [pakistan, homes, remote, afghanistan, floodin...   \n",
       "2                                                NaN   \n",
       "3  [baghlan, afghanistan, agency, province, distr...   \n",
       "4  [province, official, hit, district, floods, fl...   \n",
       "\n",
       "                                             summary  \\\n",
       "0                                                NaN   \n",
       "1  Flash flooding across Afghanistan and Pakistan...   \n",
       "2                                                NaN   \n",
       "3  Flash floods struck on 08 May 2015 in Faryab P...   \n",
       "4  According to reports from Chinese state news a...   \n",
       "\n",
       "                                                text  \\\n",
       "0   United Nations  S/2015/302   Security Council...   \n",
       "1  Flash flooding across Afghanistan and Pakistan...   \n",
       "2  www.unocha.org The mission of the United Natio...   \n",
       "3  Afghanistan state news agency, Bakhtar News Ag...   \n",
       "4  Flash floods have struck once again in the Bad...   \n",
       "\n",
       "                                                 url valid  \\\n",
       "0  http://www.securitycouncilreport.org/atf/cf/%7...   NaN   \n",
       "1  http://www.independent.co.uk/news/world/asia/1...  True   \n",
       "2  http://reliefweb.int/sites/reliefweb.int/files...   NaN   \n",
       "3  http://floodlist.com/asia/afghanistan-flash-fl...  True   \n",
       "4  http://floodlist.com/asia/afghanistan-6-dead-f...  True   \n",
       "\n",
       "                                         decode_text     error  \\\n",
       "0   United Nations  S/2015/302   Security Council...  all good   \n",
       "1  Flash flooding across Afghanistan and Pakistan...  all good   \n",
       "2  www.unocha.org The mission of the United Natio...  all good   \n",
       "3  Afghanistan state news agency, Bakhtar News Ag...  all good   \n",
       "4  Flash floods have struck once again in the Bad...  all good   \n",
       "\n",
       "                     Tag language  doc_id  \n",
       "0  Conflict and violence       en       0  \n",
       "1              Disasters       en       1  \n",
       "2              Disasters       en       2  \n",
       "3              Disasters       en       3  \n",
       "4              Disasters       en       4  "
      ]
     },
     "execution_count": 4,
     "metadata": {},
     "output_type": "execute_result"
    }
   ],
   "source": [
    "df.head()"
   ]
  },
  {
   "cell_type": "code",
   "execution_count": 5,
   "metadata": {
    "collapsed": false
   },
   "outputs": [
    {
     "data": {
      "text/plain": [
       "(494, 13)"
      ]
     },
     "execution_count": 5,
     "metadata": {},
     "output_type": "execute_result"
    }
   ],
   "source": [
    "df.shape"
   ]
  },
  {
   "cell_type": "markdown",
   "metadata": {},
   "source": [
    "## Dataframe for Tagging"
   ]
  },
  {
   "cell_type": "code",
   "execution_count": 6,
   "metadata": {
    "collapsed": false
   },
   "outputs": [],
   "source": [
    "documents = df[['doc_id', 'Tag', 'decode_text']]\n",
    "documents = documents.rename(columns = {'Tag':'tag'})"
   ]
  },
  {
   "cell_type": "code",
   "execution_count": 9,
   "metadata": {
    "collapsed": false
   },
   "outputs": [
    {
     "data": {
      "text/html": [
       "<div>\n",
       "<table border=\"1\" class=\"dataframe\">\n",
       "  <thead>\n",
       "    <tr style=\"text-align: right;\">\n",
       "      <th></th>\n",
       "      <th>doc_id</th>\n",
       "      <th>tag</th>\n",
       "      <th>decode_text</th>\n",
       "    </tr>\n",
       "  </thead>\n",
       "  <tbody>\n",
       "    <tr>\n",
       "      <th>0</th>\n",
       "      <td>0</td>\n",
       "      <td>Conflict and violence</td>\n",
       "      <td>United Nations  S/2015/302   Security Council...</td>\n",
       "    </tr>\n",
       "    <tr>\n",
       "      <th>1</th>\n",
       "      <td>1</td>\n",
       "      <td>Disasters</td>\n",
       "      <td>Flash flooding across Afghanistan and Pakistan...</td>\n",
       "    </tr>\n",
       "    <tr>\n",
       "      <th>2</th>\n",
       "      <td>2</td>\n",
       "      <td>Disasters</td>\n",
       "      <td>www.unocha.org The mission of the United Natio...</td>\n",
       "    </tr>\n",
       "    <tr>\n",
       "      <th>3</th>\n",
       "      <td>3</td>\n",
       "      <td>Disasters</td>\n",
       "      <td>Afghanistan state news agency, Bakhtar News Ag...</td>\n",
       "    </tr>\n",
       "    <tr>\n",
       "      <th>4</th>\n",
       "      <td>4</td>\n",
       "      <td>Disasters</td>\n",
       "      <td>Flash floods have struck once again in the Bad...</td>\n",
       "    </tr>\n",
       "  </tbody>\n",
       "</table>\n",
       "</div>"
      ],
      "text/plain": [
       "   doc_id                    tag  \\\n",
       "0       0  Conflict and violence   \n",
       "1       1              Disasters   \n",
       "2       2              Disasters   \n",
       "3       3              Disasters   \n",
       "4       4              Disasters   \n",
       "\n",
       "                                         decode_text  \n",
       "0   United Nations  S/2015/302   Security Council...  \n",
       "1  Flash flooding across Afghanistan and Pakistan...  \n",
       "2  www.unocha.org The mission of the United Natio...  \n",
       "3  Afghanistan state news agency, Bakhtar News Ag...  \n",
       "4  Flash floods have struck once again in the Bad...  "
      ]
     },
     "execution_count": 9,
     "metadata": {},
     "output_type": "execute_result"
    }
   ],
   "source": [
    "documents.head()"
   ]
  },
  {
   "cell_type": "code",
   "execution_count": 10,
   "metadata": {
    "collapsed": false
   },
   "outputs": [],
   "source": [
    "# Split dataframe\n",
    "d_train, d_test = train_test_split(documents, test_size = 0.2)"
   ]
  },
  {
   "cell_type": "code",
   "execution_count": 11,
   "metadata": {
    "collapsed": false
   },
   "outputs": [
    {
     "data": {
      "text/plain": [
       "(395, 3)"
      ]
     },
     "execution_count": 11,
     "metadata": {},
     "output_type": "execute_result"
    }
   ],
   "source": [
    "d_train.shape"
   ]
  },
  {
   "cell_type": "code",
   "execution_count": 12,
   "metadata": {
    "collapsed": false
   },
   "outputs": [
    {
     "data": {
      "text/plain": [
       "(99, 3)"
      ]
     },
     "execution_count": 12,
     "metadata": {},
     "output_type": "execute_result"
    }
   ],
   "source": [
    "d_test.shape"
   ]
  },
  {
   "cell_type": "code",
   "execution_count": 15,
   "metadata": {
    "collapsed": false
   },
   "outputs": [
    {
     "data": {
      "text/plain": [
       "587                Disasters\n",
       "549                Disasters\n",
       "440    Conflict and violence\n",
       "151                Disasters\n",
       "431                Disasters\n",
       "Name: tag, dtype: object"
      ]
     },
     "execution_count": 15,
     "metadata": {},
     "output_type": "execute_result"
    }
   ],
   "source": [
    "# Prep train tags for TFIDF\n",
    "train_tags = d_train.tag\n",
    "train_tags.head()"
   ]
  },
  {
   "cell_type": "code",
   "execution_count": 16,
   "metadata": {
    "collapsed": false
   },
   "outputs": [
    {
     "data": {
      "text/plain": [
       "(395,)"
      ]
     },
     "execution_count": 16,
     "metadata": {},
     "output_type": "execute_result"
    }
   ],
   "source": [
    "train_tags.shape"
   ]
  },
  {
   "cell_type": "code",
   "execution_count": 17,
   "metadata": {
    "collapsed": false
   },
   "outputs": [
    {
     "data": {
      "text/plain": [
       "Disasters                339\n",
       "Conflict and violence     56\n",
       "Name: tag, dtype: int64"
      ]
     },
     "execution_count": 17,
     "metadata": {},
     "output_type": "execute_result"
    }
   ],
   "source": [
    "train_tags.value_counts()"
   ]
  },
  {
   "cell_type": "code",
   "execution_count": 19,
   "metadata": {
    "collapsed": false
   },
   "outputs": [
    {
     "data": {
      "text/plain": [
       "13                 Disasters\n",
       "181    Conflict and violence\n",
       "185                Disasters\n",
       "157                Disasters\n",
       "536                Disasters\n",
       "Name: tag, dtype: object"
      ]
     },
     "execution_count": 19,
     "metadata": {},
     "output_type": "execute_result"
    }
   ],
   "source": [
    "# Prep test tags\n",
    "test_tags = d_test.tag\n",
    "test_tags.head()"
   ]
  },
  {
   "cell_type": "code",
   "execution_count": 20,
   "metadata": {
    "collapsed": false
   },
   "outputs": [
    {
     "data": {
      "text/plain": [
       "(99,)"
      ]
     },
     "execution_count": 20,
     "metadata": {},
     "output_type": "execute_result"
    }
   ],
   "source": [
    "test_tags.shape"
   ]
  },
  {
   "cell_type": "code",
   "execution_count": 21,
   "metadata": {
    "collapsed": false
   },
   "outputs": [
    {
     "data": {
      "text/plain": [
       "Disasters                85\n",
       "Conflict and violence    14\n",
       "Name: tag, dtype: int64"
      ]
     },
     "execution_count": 21,
     "metadata": {},
     "output_type": "execute_result"
    }
   ],
   "source": [
    "test_tags.value_counts()"
   ]
  },
  {
   "cell_type": "markdown",
   "metadata": {},
   "source": [
    "## TFIDF"
   ]
  },
  {
   "cell_type": "code",
   "execution_count": 24,
   "metadata": {
    "collapsed": false
   },
   "outputs": [
    {
     "data": {
      "text/plain": [
       "(395, 40445)"
      ]
     },
     "execution_count": 24,
     "metadata": {},
     "output_type": "execute_result"
    }
   ],
   "source": [
    "vectorizer = TfidfVectorizer(stop_words=\"english\")\n",
    "train_vectors = vectorizer.fit_transform(d_train.decode_text)\n",
    "train_vectors.shape"
   ]
  },
  {
   "cell_type": "code",
   "execution_count": 26,
   "metadata": {
    "collapsed": false
   },
   "outputs": [
    {
     "data": {
      "text/plain": [
       "(99, 40445)"
      ]
     },
     "execution_count": 26,
     "metadata": {},
     "output_type": "execute_result"
    }
   ],
   "source": [
    "test_vectors = vectorizer.transform(d_test.decode_text)\n",
    "test_vectors.shape"
   ]
  },
  {
   "cell_type": "markdown",
   "metadata": {},
   "source": [
    "## Bernoulli NB"
   ]
  },
  {
   "cell_type": "code",
   "execution_count": 28,
   "metadata": {
    "collapsed": false
   },
   "outputs": [
    {
     "data": {
      "text/plain": [
       "array(['Disasters', 'Disasters', 'Disasters', 'Disasters', 'Disasters',\n",
       "       'Disasters', 'Disasters', 'Disasters', 'Disasters', 'Disasters',\n",
       "       'Disasters', 'Disasters', 'Disasters', 'Disasters', 'Disasters',\n",
       "       'Conflict and violence', 'Disasters', 'Disasters', 'Disasters',\n",
       "       'Disasters', 'Disasters', 'Disasters', 'Disasters', 'Disasters',\n",
       "       'Conflict and violence', 'Disasters', 'Disasters', 'Disasters',\n",
       "       'Disasters', 'Disasters', 'Disasters', 'Disasters', 'Disasters',\n",
       "       'Disasters', 'Disasters', 'Disasters', 'Disasters', 'Disasters',\n",
       "       'Disasters', 'Disasters', 'Disasters', 'Disasters', 'Disasters',\n",
       "       'Disasters', 'Disasters', 'Disasters', 'Disasters', 'Disasters',\n",
       "       'Disasters', 'Disasters', 'Disasters', 'Disasters', 'Disasters',\n",
       "       'Disasters', 'Disasters', 'Conflict and violence', 'Disasters',\n",
       "       'Disasters', 'Disasters', 'Disasters', 'Disasters', 'Disasters',\n",
       "       'Disasters', 'Disasters', 'Disasters', 'Disasters', 'Disasters',\n",
       "       'Disasters', 'Disasters', 'Disasters', 'Disasters', 'Disasters',\n",
       "       'Disasters', 'Disasters', 'Disasters', 'Disasters', 'Disasters',\n",
       "       'Disasters', 'Disasters', 'Disasters', 'Disasters', 'Disasters',\n",
       "       'Disasters', 'Disasters', 'Disasters', 'Disasters', 'Disasters',\n",
       "       'Disasters', 'Disasters', 'Disasters', 'Conflict and violence',\n",
       "       'Disasters', 'Disasters', 'Disasters', 'Disasters', 'Disasters',\n",
       "       'Disasters', 'Disasters', 'Disasters'], \n",
       "      dtype='|S21')"
      ]
     },
     "execution_count": 28,
     "metadata": {},
     "output_type": "execute_result"
    }
   ],
   "source": [
    "document_model = BernoulliNB().fit(train_vectors, train_tags)\n",
    "document_model.predict(test_vectors)"
   ]
  },
  {
   "cell_type": "code",
   "execution_count": 31,
   "metadata": {
    "collapsed": false
   },
   "outputs": [
    {
     "data": {
      "text/plain": [
       "0    Disasters\n",
       "1    Disasters\n",
       "2    Disasters\n",
       "3    Disasters\n",
       "4    Disasters\n",
       "dtype: object"
      ]
     },
     "execution_count": 31,
     "metadata": {},
     "output_type": "execute_result"
    }
   ],
   "source": [
    "test_pred = document_model.predict(test_vectors)\n",
    "test_pred_series = pd.Series(test_pred)\n",
    "test_pred_series.head()"
   ]
  },
  {
   "cell_type": "code",
   "execution_count": 33,
   "metadata": {
    "collapsed": false
   },
   "outputs": [
    {
     "data": {
      "text/plain": [
       "array([[ 3, 11],\n",
       "       [ 1, 84]])"
      ]
     },
     "execution_count": 33,
     "metadata": {},
     "output_type": "execute_result"
    }
   ],
   "source": [
    "confusion_matrix(test_tags, test_pred, labels=[\"Conflict and violence\", \"Disasters\"])"
   ]
  },
  {
   "cell_type": "code",
   "execution_count": 34,
   "metadata": {
    "collapsed": false
   },
   "outputs": [
    {
     "data": {
      "text/plain": [
       "0.87878787878787878"
      ]
     },
     "execution_count": 34,
     "metadata": {},
     "output_type": "execute_result"
    }
   ],
   "source": [
    "document_model.score(test_vectors, test_tags)"
   ]
  },
  {
   "cell_type": "code",
   "execution_count": 36,
   "metadata": {
    "collapsed": false
   },
   "outputs": [
    {
     "name": "stdout",
     "output_type": "stream",
     "text": [
      "                       precision    recall  f1-score   support\n",
      "\n",
      "Conflict and violence       0.75      0.21      0.33        14\n",
      "            Disasters       0.88      0.99      0.93        85\n",
      "\n",
      "          avg / total       0.87      0.88      0.85        99\n",
      "\n"
     ]
    }
   ],
   "source": [
    "target_names = [\"Conflict and violence\", \"Disasters\"]\n",
    "print(classification_report(test_tags, test_pred, target_names=target_names))"
   ]
  },
  {
   "cell_type": "markdown",
   "metadata": {
    "collapsed": true
   },
   "source": [
    "## Random Forest"
   ]
  },
  {
   "cell_type": "code",
   "execution_count": 39,
   "metadata": {
    "collapsed": false
   },
   "outputs": [
    {
     "data": {
      "text/plain": [
       "array(['Disasters', 'Conflict and violence', 'Disasters', 'Disasters',\n",
       "       'Disasters', 'Disasters', 'Disasters', 'Disasters', 'Disasters',\n",
       "       'Disasters', 'Disasters', 'Disasters', 'Disasters', 'Disasters',\n",
       "       'Conflict and violence', 'Disasters', 'Disasters', 'Disasters',\n",
       "       'Disasters', 'Disasters', 'Disasters', 'Disasters', 'Disasters',\n",
       "       'Disasters', 'Conflict and violence', 'Disasters', 'Disasters',\n",
       "       'Disasters', 'Disasters', 'Disasters', 'Disasters',\n",
       "       'Conflict and violence', 'Disasters', 'Disasters', 'Disasters',\n",
       "       'Disasters', 'Conflict and violence', 'Disasters', 'Disasters',\n",
       "       'Disasters', 'Disasters', 'Disasters', 'Disasters', 'Disasters',\n",
       "       'Disasters', 'Disasters', 'Disasters', 'Disasters', 'Disasters',\n",
       "       'Disasters', 'Disasters', 'Disasters', 'Conflict and violence',\n",
       "       'Disasters', 'Disasters', 'Conflict and violence', 'Disasters',\n",
       "       'Disasters', 'Disasters', 'Disasters', 'Disasters', 'Disasters',\n",
       "       'Disasters', 'Disasters', 'Disasters', 'Disasters', 'Disasters',\n",
       "       'Disasters', 'Disasters', 'Disasters', 'Disasters', 'Disasters',\n",
       "       'Disasters', 'Disasters', 'Disasters', 'Disasters', 'Disasters',\n",
       "       'Disasters', 'Disasters', 'Disasters', 'Disasters', 'Disasters',\n",
       "       'Disasters', 'Disasters', 'Disasters', 'Disasters', 'Disasters',\n",
       "       'Disasters', 'Disasters', 'Disasters', 'Conflict and violence',\n",
       "       'Disasters', 'Disasters', 'Disasters', 'Disasters', 'Disasters',\n",
       "       'Disasters', 'Disasters', 'Disasters'], dtype=object)"
      ]
     },
     "execution_count": 39,
     "metadata": {},
     "output_type": "execute_result"
    }
   ],
   "source": [
    "document_RF = RandomForestClassifier().fit(train_vectors, train_tags)\n",
    "document_RF.predict(test_vectors)"
   ]
  },
  {
   "cell_type": "code",
   "execution_count": 41,
   "metadata": {
    "collapsed": false
   },
   "outputs": [
    {
     "data": {
      "text/plain": [
       "0.93939393939393945"
      ]
     },
     "execution_count": 41,
     "metadata": {},
     "output_type": "execute_result"
    }
   ],
   "source": [
    "test_pred_RF = document_RF.predict(test_vectors)\n",
    "document_RF.score(test_vectors, test_tags)"
   ]
  },
  {
   "cell_type": "code",
   "execution_count": 42,
   "metadata": {
    "collapsed": false
   },
   "outputs": [
    {
     "data": {
      "text/plain": [
       "array([[ 8,  6],\n",
       "       [ 0, 85]])"
      ]
     },
     "execution_count": 42,
     "metadata": {},
     "output_type": "execute_result"
    }
   ],
   "source": [
    "confusion_matrix(test_tags, test_pred_RF, labels=[\"Conflict and violence\", \"Disasters\"])"
   ]
  },
  {
   "cell_type": "code",
   "execution_count": 43,
   "metadata": {
    "collapsed": false
   },
   "outputs": [
    {
     "name": "stdout",
     "output_type": "stream",
     "text": [
      "                       precision    recall  f1-score   support\n",
      "\n",
      "Conflict and violence       1.00      0.57      0.73        14\n",
      "            Disasters       0.93      1.00      0.97        85\n",
      "\n",
      "          avg / total       0.94      0.94      0.93        99\n",
      "\n"
     ]
    }
   ],
   "source": [
    "print(classification_report(test_tags, test_pred_RF, target_names=target_names))"
   ]
  },
  {
   "cell_type": "markdown",
   "metadata": {},
   "source": [
    "## Oversample"
   ]
  },
  {
   "cell_type": "code",
   "execution_count": 53,
   "metadata": {
    "collapsed": false
   },
   "outputs": [],
   "source": [
    "X_train = train_vectors.toarray()\n",
    "Y_train = train_tags\n",
    "\n",
    "sm = SMOTE(kind='regular')\n",
    "X_train_over, Y_train_over = sm.fit_sample(X_train, Y_train)"
   ]
  },
  {
   "cell_type": "code",
   "execution_count": 55,
   "metadata": {
    "collapsed": false
   },
   "outputs": [
    {
     "data": {
      "text/plain": [
       "array(['Disasters', 'Conflict and violence', 'Disasters', 'Disasters',\n",
       "       'Disasters', 'Disasters', 'Disasters', 'Disasters', 'Disasters',\n",
       "       'Disasters', 'Disasters', 'Disasters', 'Disasters', 'Disasters',\n",
       "       'Conflict and violence', 'Conflict and violence', 'Disasters',\n",
       "       'Disasters', 'Disasters', 'Disasters', 'Disasters', 'Disasters',\n",
       "       'Disasters', 'Disasters', 'Conflict and violence', 'Disasters',\n",
       "       'Disasters', 'Disasters', 'Disasters', 'Disasters', 'Disasters',\n",
       "       'Conflict and violence', 'Disasters', 'Disasters', 'Disasters',\n",
       "       'Disasters', 'Conflict and violence', 'Disasters', 'Disasters',\n",
       "       'Disasters', 'Disasters', 'Disasters', 'Disasters', 'Disasters',\n",
       "       'Disasters', 'Disasters', 'Disasters', 'Disasters', 'Disasters',\n",
       "       'Disasters', 'Disasters', 'Disasters', 'Conflict and violence',\n",
       "       'Disasters', 'Disasters', 'Conflict and violence', 'Disasters',\n",
       "       'Disasters', 'Disasters', 'Disasters', 'Disasters', 'Disasters',\n",
       "       'Disasters', 'Disasters', 'Disasters', 'Disasters', 'Disasters',\n",
       "       'Disasters', 'Disasters', 'Conflict and violence', 'Disasters',\n",
       "       'Disasters', 'Disasters', 'Disasters', 'Disasters', 'Disasters',\n",
       "       'Disasters', 'Disasters', 'Disasters', 'Disasters', 'Disasters',\n",
       "       'Disasters', 'Disasters', 'Disasters', 'Disasters', 'Disasters',\n",
       "       'Disasters', 'Disasters', 'Disasters', 'Disasters',\n",
       "       'Conflict and violence', 'Disasters', 'Disasters',\n",
       "       'Conflict and violence', 'Disasters', 'Disasters', 'Disasters',\n",
       "       'Disasters', 'Disasters'], dtype=object)"
      ]
     },
     "execution_count": 55,
     "metadata": {},
     "output_type": "execute_result"
    }
   ],
   "source": [
    "document_RF_oversample = RandomForestClassifier().fit(X_train_over, Y_train_over)\n",
    "document_RF_oversample.predict(test_vectors)"
   ]
  },
  {
   "cell_type": "code",
   "execution_count": 57,
   "metadata": {
    "collapsed": false
   },
   "outputs": [
    {
     "data": {
      "text/plain": [
       "0.90909090909090906"
      ]
     },
     "execution_count": 57,
     "metadata": {},
     "output_type": "execute_result"
    }
   ],
   "source": [
    "test_pred_RF_oversample = document_RF_oversample.predict(test_vectors)\n",
    "document_RF_oversample.score(test_vectors, test_tags)"
   ]
  },
  {
   "cell_type": "code",
   "execution_count": 58,
   "metadata": {
    "collapsed": false
   },
   "outputs": [
    {
     "data": {
      "text/plain": [
       "array([[ 8,  6],\n",
       "       [ 3, 82]])"
      ]
     },
     "execution_count": 58,
     "metadata": {},
     "output_type": "execute_result"
    }
   ],
   "source": [
    "confusion_matrix(test_tags, test_pred_RF_oversample, labels=[\"Conflict and violence\", \"Disasters\"])"
   ]
  },
  {
   "cell_type": "code",
   "execution_count": 59,
   "metadata": {
    "collapsed": false
   },
   "outputs": [
    {
     "name": "stdout",
     "output_type": "stream",
     "text": [
      "                       precision    recall  f1-score   support\n",
      "\n",
      "Conflict and violence       0.73      0.57      0.64        14\n",
      "            Disasters       0.93      0.96      0.95        85\n",
      "\n",
      "          avg / total       0.90      0.91      0.90        99\n",
      "\n"
     ]
    }
   ],
   "source": [
    "print(classification_report(test_tags, test_pred_RF_oversample, target_names=target_names))"
   ]
  },
  {
   "cell_type": "markdown",
   "metadata": {},
   "source": [
    "## Undersample"
   ]
  },
  {
   "cell_type": "code",
   "execution_count": 60,
   "metadata": {
    "collapsed": true
   },
   "outputs": [],
   "source": [
    "nm3 = NearMiss(version=3)\n",
    "X_train_under, Y_train_under = nm3.fit_sample(X_train, Y_train)"
   ]
  },
  {
   "cell_type": "code",
   "execution_count": 62,
   "metadata": {
    "collapsed": false
   },
   "outputs": [
    {
     "data": {
      "text/plain": [
       "array(['Disasters', 'Conflict and violence', 'Disasters', 'Disasters',\n",
       "       'Disasters', 'Disasters', 'Disasters', 'Conflict and violence',\n",
       "       'Disasters', 'Disasters', 'Disasters', 'Conflict and violence',\n",
       "       'Disasters', 'Disasters', 'Conflict and violence',\n",
       "       'Conflict and violence', 'Disasters', 'Disasters', 'Disasters',\n",
       "       'Disasters', 'Disasters', 'Disasters', 'Disasters', 'Disasters',\n",
       "       'Conflict and violence', 'Disasters', 'Disasters', 'Disasters',\n",
       "       'Disasters', 'Conflict and violence', 'Disasters',\n",
       "       'Conflict and violence', 'Disasters', 'Disasters', 'Disasters',\n",
       "       'Disasters', 'Conflict and violence', 'Disasters', 'Disasters',\n",
       "       'Disasters', 'Disasters', 'Disasters', 'Disasters', 'Disasters',\n",
       "       'Disasters', 'Disasters', 'Disasters', 'Disasters', 'Disasters',\n",
       "       'Disasters', 'Disasters', 'Disasters', 'Conflict and violence',\n",
       "       'Disasters', 'Disasters', 'Conflict and violence', 'Disasters',\n",
       "       'Disasters', 'Disasters', 'Disasters', 'Disasters', 'Disasters',\n",
       "       'Disasters', 'Conflict and violence', 'Disasters', 'Disasters',\n",
       "       'Disasters', 'Disasters', 'Disasters', 'Conflict and violence',\n",
       "       'Disasters', 'Conflict and violence', 'Disasters',\n",
       "       'Conflict and violence', 'Disasters', 'Disasters', 'Disasters',\n",
       "       'Disasters', 'Disasters', 'Disasters', 'Disasters',\n",
       "       'Conflict and violence', 'Disasters', 'Disasters', 'Disasters',\n",
       "       'Disasters', 'Disasters', 'Disasters', 'Disasters',\n",
       "       'Conflict and violence', 'Conflict and violence', 'Disasters',\n",
       "       'Disasters', 'Conflict and violence', 'Disasters', 'Disasters',\n",
       "       'Disasters', 'Disasters', 'Disasters'], dtype=object)"
      ]
     },
     "execution_count": 62,
     "metadata": {},
     "output_type": "execute_result"
    }
   ],
   "source": [
    "document_RF_undersample = RandomForestClassifier().fit(X_train_under, Y_train_under)\n",
    "document_RF_undersample.predict(test_vectors)"
   ]
  },
  {
   "cell_type": "code",
   "execution_count": 64,
   "metadata": {
    "collapsed": false
   },
   "outputs": [
    {
     "data": {
      "text/plain": [
       "0.84848484848484851"
      ]
     },
     "execution_count": 64,
     "metadata": {},
     "output_type": "execute_result"
    }
   ],
   "source": [
    "test_pred_RF_undersample = document_RF_undersample.predict(test_vectors)\n",
    "document_RF_undersample.score(test_vectors, test_tags)"
   ]
  },
  {
   "cell_type": "code",
   "execution_count": 65,
   "metadata": {
    "collapsed": false
   },
   "outputs": [
    {
     "data": {
      "text/plain": [
       "array([[ 9,  5],\n",
       "       [10, 75]])"
      ]
     },
     "execution_count": 65,
     "metadata": {},
     "output_type": "execute_result"
    }
   ],
   "source": [
    "confusion_matrix(test_tags, test_pred_RF_undersample, labels=[\"Conflict and violence\", \"Disasters\"])"
   ]
  },
  {
   "cell_type": "code",
   "execution_count": 66,
   "metadata": {
    "collapsed": false
   },
   "outputs": [
    {
     "name": "stdout",
     "output_type": "stream",
     "text": [
      "                       precision    recall  f1-score   support\n",
      "\n",
      "Conflict and violence       0.47      0.64      0.55        14\n",
      "            Disasters       0.94      0.88      0.91        85\n",
      "\n",
      "          avg / total       0.87      0.85      0.86        99\n",
      "\n"
     ]
    }
   ],
   "source": [
    "print(classification_report(test_tags, test_pred_RF_undersample, target_names=target_names))"
   ]
  },
  {
   "cell_type": "code",
   "execution_count": 89,
   "metadata": {
    "collapsed": true
   },
   "outputs": [],
   "source": [
    "savemodel1 = pickle.dumps(document_RF_oversample)"
   ]
  },
  {
   "cell_type": "code",
   "execution_count": 90,
   "metadata": {
    "collapsed": false
   },
   "outputs": [
    {
     "data": {
      "text/plain": [
       "['RF_model.pkl']"
      ]
     },
     "execution_count": 90,
     "metadata": {},
     "output_type": "execute_result"
    }
   ],
   "source": [
    "from sklearn.externals import joblib\n",
    "joblib.dump(document_RF_oversample, 'RF_model.pkl') "
   ]
  },
  {
   "cell_type": "code",
   "execution_count": 101,
   "metadata": {
    "collapsed": false
   },
   "outputs": [
    {
     "data": {
      "text/plain": [
       "['RF_model_secondtry.pkl']"
      ]
     },
     "execution_count": 101,
     "metadata": {},
     "output_type": "execute_result"
    }
   ],
   "source": [
    "from sklearn.externals import joblib\n",
    "joblib.dump(document_RF, 'RF_model_secondtry.pkl') "
   ]
  },
  {
   "cell_type": "code",
   "execution_count": null,
   "metadata": {
    "collapsed": true
   },
   "outputs": [],
   "source": []
  }
 ],
 "metadata": {
  "kernelspec": {
   "display_name": "Python 2",
   "language": "python",
   "name": "python2"
  },
  "language_info": {
   "codemirror_mode": {
    "name": "ipython",
    "version": 2
   },
   "file_extension": ".py",
   "mimetype": "text/x-python",
   "name": "python",
   "nbconvert_exporter": "python",
   "pygments_lexer": "ipython2",
   "version": "2.7.12"
  }
 },
 "nbformat": 4,
 "nbformat_minor": 1
}
